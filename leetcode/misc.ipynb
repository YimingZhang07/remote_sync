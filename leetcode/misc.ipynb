{
 "cells": [
  {
   "cell_type": "markdown",
   "metadata": {},
   "source": [
    "# Quick Selection"
   ]
  },
  {
   "cell_type": "markdown",
   "metadata": {},
   "source": [
    "## 215. Kth Largest Element in an Array"
   ]
  },
  {
   "cell_type": "markdown",
   "metadata": {},
   "source": [
    "A very intuitive thinking is to sort the array and the find the k-th largest, which is $O(N\\log_N)$. How can we do better? We do not need to sort the whole array, but only the subarray that our target lies in. That's why we can utilize part of the solution in quick sort, that is the random partition algo and sovle the problem.\n",
    "\n",
    "**Random Partition**: Randomly choose a number called `pivot`. And then move all the numbers smaller than it to the left, and all the numbers greater to its right. Return the idx of this random choose number.\n",
    "\n",
    "- Swap the `pivot` to the rightmost number.\n",
    "- Iterate all the remaining numbers, keep a pointer tracking the position that smaller number should be placed at. Any numbers to the left of this pointer are the smaller ones.\n",
    "- Swap the `pivot` numbers from the right end back to the middle.\n",
    "\n",
    "After the random partition, only this \"lucky\" random number is at its right place, but we also know the k-th largest number should be on its left or right subarray, which is why we can narrow the data.\n",
    "\n",
    "We perform the same random partition on the subarray, and keep doing so, until the subarray converge to a single number, and we are able to find this k-th largest number.\n",
    "\n",
    "1. Quick sort: https://leetcode.cn/problems/sort-an-array/solution/pai-xu-shu-zu-by-leetcode-solution/\n",
    "2. k-th largest: https://leetcode.cn/problems/kth-largest-element-in-an-array/solution/partitionfen-er-zhi-zhi-you-xian-dui-lie-java-dai-/"
   ]
  },
  {
   "cell_type": "code",
   "execution_count": 43,
   "metadata": {},
   "outputs": [],
   "source": [
    "class Solution:\n",
    "    def findKthLargest(self, nums: list[int], k: int) -> int:\n",
    "        def partition(nums, left, right):\n",
    "            \"\"\"returns the idx of a randomly choosen number after sorting.\n",
    "            \n",
    "            The array will be sorted in a way such that all the numbers to the left of this choosen number is smaller than it (in an unsorted way), and all the numbers to the right are larger ones.\n",
    "            \"\"\"\n",
    "            import random\n",
    "            pivot = random.randint(left, right)\n",
    "            nums[pivot], nums[right] = nums[right], nums[pivot]\n",
    "            idx = left\n",
    "            for j in range(left, right):\n",
    "                if nums[j] < nums[right]:\n",
    "                    nums[j], nums[idx] = nums[idx], nums[j]\n",
    "                    idx += 1\n",
    "            nums[idx], nums[right] = nums[right], nums[idx]\n",
    "            return idx\n",
    "        n = len(nums)\n",
    "        target = n - k\n",
    "        left = 0\n",
    "        right = n - 1\n",
    "        while left <= right:\n",
    "            idx = partition(nums, left, right)\n",
    "            if idx == target:\n",
    "                return nums[idx]\n",
    "            elif idx < target:\n",
    "                left = idx + 1\n",
    "            else:\n",
    "                right = idx - 1"
   ]
  },
  {
   "cell_type": "markdown",
   "metadata": {},
   "source": [
    "## 238. Product of Array Except Self"
   ]
  },
  {
   "cell_type": "markdown",
   "metadata": {},
   "source": [
    "Problem: Given an integer array nums, return an array answer such that `answer[i]` is equal to the product of all the elements of nums except `nums[i]`.\n",
    "\n",
    "Solution: The problem requires us to solve within $O(n)$. The product except self can be viewed as products of its left and products of its right. Thus, we can loop the sequence twice, one to get all the left products, (intialze the `leftProd` of the first item to be 1). The second loop to get all the right products in the same way.\n",
    "\n",
    "The the `res` should be straightforward."
   ]
  },
  {
   "cell_type": "code",
   "execution_count": 3,
   "metadata": {},
   "outputs": [],
   "source": [
    "class Solution:\n",
    "    def productExceptSelf(self, nums: list[int]) -> list[int]:\n",
    "        n = len(nums)\n",
    "        res = [0] * n\n",
    "        leftProd = [0] * n\n",
    "        rightProd = [0] * n\n",
    "\n",
    "        for i in range(n):\n",
    "            if i == 0:\n",
    "                leftProd[i] = 1\n",
    "            else:\n",
    "                leftProd[i] = leftProd[i-1] * nums[i-1]\n",
    "\n",
    "        for i in range(n-1, -1, -1):\n",
    "            if i == n - 1:\n",
    "                rightProd[i] = 1\n",
    "            else:\n",
    "                rightProd[i] = rightProd[i + 1] * nums[i+1]\n",
    "            res[i] = rightProd[i] * leftProd[i]\n",
    "\n",
    "        return res\n"
   ]
  },
  {
   "cell_type": "markdown",
   "metadata": {},
   "source": [
    "## Temporary"
   ]
  },
  {
   "cell_type": "code",
   "execution_count": 21,
   "metadata": {},
   "outputs": [],
   "source": [
    "def knapsack01(item_wgts, item_vals, tot_wgt):\n",
    "    from pprint import pprint\n",
    "    n = len(item_wgts)\n",
    "    dp = [[0]*(tot_wgt + 1) for _ in range(n + 1)]\n",
    "    for i in range(1, n + 1):\n",
    "        for j in range(1, tot_wgt + 1):\n",
    "            if item_wgts[i - 1] > j:\n",
    "                dp[i][j] = dp[i-1][j]\n",
    "            else:\n",
    "                dp[i][j] = max(dp[i-1][j], item_vals[i-1] + dp[i-1][j-item_wgts[i-1]])\n",
    "                \n",
    "    pprint(dp)\n",
    "    return dp[-1][-1]\n",
    "\n",
    "# item_weights = [2, 3, 5, 1, 12]\n",
    "# item_values = [11, 9, 3, 7, 18]\n",
    "# total_weight = 10\n",
    "# knapsack01(item_weights, item_values, total_weight)"
   ]
  }
 ],
 "metadata": {
  "kernelspec": {
   "display_name": "Python 3.9.7 ('base')",
   "language": "python",
   "name": "python3"
  },
  "language_info": {
   "codemirror_mode": {
    "name": "ipython",
    "version": 3
   },
   "file_extension": ".py",
   "mimetype": "text/x-python",
   "name": "python",
   "nbconvert_exporter": "python",
   "pygments_lexer": "ipython3",
   "version": "3.9.7"
  },
  "orig_nbformat": 4,
  "vscode": {
   "interpreter": {
    "hash": "39f5abcd422d605275ded4899c318d6924633141c4df25463611bc89b07d5dc8"
   }
  }
 },
 "nbformat": 4,
 "nbformat_minor": 2
}
