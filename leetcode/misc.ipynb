{
 "cells": [
  {
   "cell_type": "markdown",
   "metadata": {},
   "source": [
    "# Quick Selection"
   ]
  },
  {
   "cell_type": "markdown",
   "metadata": {},
   "source": [
    "## 215. Kth Largest Element in an Array"
   ]
  },
  {
   "cell_type": "markdown",
   "metadata": {},
   "source": [
    "A very intuitive thinking is to sort the array and the find the k-th largest, which is $O(N\\log_N)$. How can we do better? We do not need to sort the whole array, but only the subarray that our target lies in. That's why we can utilize part of the solution in quick sort, that is the random partition algo and sovle the problem.\n",
    "\n",
    "**Random Partition**: Randomly choose a number called `pivot`. And then move all the numbers smaller than it to the left, and all the numbers greater to its right. Return the idx of this random choose number.\n",
    "\n",
    "- Swap the `pivot` to the rightmost number.\n",
    "- Iterate all the remaining numbers, keep a pointer tracking the position that smaller number should be placed at. Any numbers to the left of this pointer are the smaller ones.\n",
    "- Swap the `pivot` numbers from the right end back to the middle.\n",
    "\n",
    "After the random partition, only this \"lucky\" random number is at its right place, but we also know the k-th largest number should be on its left or right subarray, which is why we can narrow the data.\n",
    "\n",
    "We perform the same random partition on the subarray, and keep doing so, until the subarray converge to a single number, and we are able to find this k-th largest number.\n",
    "\n",
    "1. Quick sort: https://leetcode.cn/problems/sort-an-array/solution/pai-xu-shu-zu-by-leetcode-solution/\n",
    "2. k-th largest: https://leetcode.cn/problems/kth-largest-element-in-an-array/solution/partitionfen-er-zhi-zhi-you-xian-dui-lie-java-dai-/"
   ]
  },
  {
   "cell_type": "code",
   "execution_count": 43,
   "metadata": {},
   "outputs": [],
   "source": [
    "class Solution:\n",
    "    def findKthLargest(self, nums: list[int], k: int) -> int:\n",
    "        def partition(nums, left, right):\n",
    "            \"\"\"returns the idx of a randomly choosen number after sorting.\n",
    "            \n",
    "            The array will be sorted in a way such that all the numbers to the left of this choosen number is smaller than it (in an unsorted way), and all the numbers to the right are larger ones.\n",
    "            \"\"\"\n",
    "            import random\n",
    "            pivot = random.randint(left, right)\n",
    "            nums[pivot], nums[right] = nums[right], nums[pivot]\n",
    "            idx = left\n",
    "            for j in range(left, right):\n",
    "                if nums[j] < nums[right]:\n",
    "                    nums[j], nums[idx] = nums[idx], nums[j]\n",
    "                    idx += 1\n",
    "            nums[idx], nums[right] = nums[right], nums[idx]\n",
    "            return idx\n",
    "        \n",
    "        n = len(nums)\n",
    "        target = n - k\n",
    "        left = 0\n",
    "        right = n - 1\n",
    "        while left <= right:\n",
    "            idx = partition(nums, left, right)\n",
    "            if idx == target:\n",
    "                return nums[idx]\n",
    "            elif idx < target:\n",
    "                left = idx + 1\n",
    "            else:\n",
    "                right = idx - 1"
   ]
  },
  {
   "cell_type": "markdown",
   "metadata": {},
   "source": [
    "## 238. Product of Array Except Self"
   ]
  },
  {
   "cell_type": "markdown",
   "metadata": {},
   "source": [
    "Problem: Given an integer array nums, return an array answer such that `answer[i]` is equal to the product of all the elements of nums except `nums[i]`.\n",
    "\n",
    "Solution: The problem requires us to solve within $O(n)$. The product except self can be viewed as products of its left and products of its right. Thus, we can loop the sequence twice, one to get all the left products, (intialze the `leftProd` of the first item to be 1). The second loop to get all the right products in the same way.\n",
    "\n",
    "The the `res` should be straightforward."
   ]
  },
  {
   "cell_type": "code",
   "execution_count": 3,
   "metadata": {},
   "outputs": [],
   "source": [
    "class Solution:\n",
    "    def productExceptSelf(self, nums: list[int]) -> list[int]:\n",
    "        n = len(nums)\n",
    "        res = [0] * n\n",
    "        leftProd = [0] * n\n",
    "        rightProd = [0] * n\n",
    "\n",
    "        for i in range(n):\n",
    "            if i == 0:\n",
    "                leftProd[i] = 1\n",
    "            else:\n",
    "                leftProd[i] = leftProd[i-1] * nums[i-1]\n",
    "\n",
    "        for i in range(n-1, -1, -1):\n",
    "            if i == n - 1:\n",
    "                rightProd[i] = 1\n",
    "            else:\n",
    "                rightProd[i] = rightProd[i + 1] * nums[i+1]\n",
    "            res[i] = rightProd[i] * leftProd[i]\n",
    "\n",
    "        return res\n"
   ]
  },
  {
   "cell_type": "markdown",
   "metadata": {},
   "source": [
    "## 56. Merge Intervals"
   ]
  },
  {
   "cell_type": "markdown",
   "metadata": {},
   "source": [
    "**Problem:** Given an array of intervals where `intervals[i] = [starti, endi]`, merge all overlapping intervals, and return an array of the non-overlapping intervals that cover all the intervals in the input."
   ]
  },
  {
   "cell_type": "code",
   "execution_count": 18,
   "metadata": {},
   "outputs": [],
   "source": [
    "class Solution:\n",
    "    def merge(self, intervals: list[list[int]]) -> list[list[int]]:\n",
    "        intervals.sort(key=lambda x: x[0])\n",
    "        start, end = intervals[0]\n",
    "        ans = list()\n",
    "        for s, e in intervals[1:]:\n",
    "            if s > end:\n",
    "                ans.append([start, end])\n",
    "                start, end =  s, e\n",
    "            else:\n",
    "                end = max(end, e)\n",
    "        ans.append([start, end])\n",
    "        return ans"
   ]
  },
  {
   "cell_type": "code",
   "execution_count": 19,
   "metadata": {},
   "outputs": [
    {
     "data": {
      "text/plain": [
       "[[1, 6], [8, 10], [15, 18]]"
      ]
     },
     "execution_count": 19,
     "metadata": {},
     "output_type": "execute_result"
    }
   ],
   "source": [
    "Solution().merge([[1,3],[2,6],[8,10],[15,18]])"
   ]
  },
  {
   "cell_type": "markdown",
   "metadata": {},
   "source": [
    "# Prefix Sum"
   ]
  },
  {
   "cell_type": "markdown",
   "metadata": {},
   "source": [
    "## 304. Range Sum Query 2D - Immutable"
   ]
  },
  {
   "cell_type": "code",
   "execution_count": 4,
   "metadata": {},
   "outputs": [],
   "source": [
    "class NumMatrix:\n",
    "\n",
    "    def __init__(self, matrix: list[list[int]]):\n",
    "        m, n = len(matrix), len(matrix[0])\n",
    "        self._sums = [[0] * (n + 1) for _ in range(m + 1)]\n",
    "\n",
    "        for i in range(1, m + 1):\n",
    "            for j in range(1, n + 1):\n",
    "                self._sums[i][j] = self._sums[i][j-1] + self._sums[i - 1][j] - self._sums[i-1][j-1] + matrix[i-1][j-1]\n",
    "\n",
    "    def sumRegion(self, row1: int, col1: int, row2: int, col2: int) -> int:\n",
    "        _sums = self._sums\n",
    "        return _sums[row2 + 1][col2 + 1] - _sums[row1][col2 + 1] - _sums[row2 + 1][col1] + _sums[row1][col1]\n"
   ]
  },
  {
   "cell_type": "markdown",
   "metadata": {},
   "source": [
    "## 370. Range Addition"
   ]
  },
  {
   "cell_type": "markdown",
   "metadata": {},
   "source": [
    "**Problem:** Given arrays like `updates = [start_idx, end_index, increase_amount`, return a sequence after all the updates, assume start with [0...0].\n",
    "\n",
    "```\n",
    "Input: length = 5, updates = [[1,3,2],[2,4,3],[0,2,-2]]\n",
    "Output: [-2,0,3,5,3]\n",
    "\n",
    "Input: length = 10, updates = [[2,4,6],[5,6,8],[1,9,-4]]\n",
    "Output: [0,-4,2,2,2,4,4,-4,-4,-4]\n",
    "```\n",
    "\n",
    "**Solution:** Use a simple trick of prefix. Suppose we update from `l` to `r`, then do `d[l] += c` and `d[r+1] -= c`, then all the numbers after `r` will not be affected since the prefix sum offsets the value `c`. The previous numbers before `l` is free from impact also."
   ]
  },
  {
   "cell_type": "code",
   "execution_count": 15,
   "metadata": {},
   "outputs": [],
   "source": [
    "class Solution:\n",
    "    def getModifiedArray(self, length: int, updates: list[list[int]]) -> list[int]:\n",
    "        from itertools import accumulate\n",
    "        delta = [0] * length\n",
    "        for start, end, inc in updates:\n",
    "            delta[start] += inc\n",
    "            if end + 1 < length:\n",
    "                delta[end + 1] -= inc\n",
    "            print(\"The current delta:\\t\", delta)\n",
    "            print(\"If accumulate now:\\t\", list(accumulate(delta)))\n",
    "            print('-' * 20)\n",
    "        return list(accumulate(delta))"
   ]
  },
  {
   "cell_type": "code",
   "execution_count": 16,
   "metadata": {},
   "outputs": [
    {
     "name": "stdout",
     "output_type": "stream",
     "text": [
      "The current delta:\t [0, 2, 0, 0, -2]\n",
      "If accumulate now:\t [0, 2, 2, 2, 0]\n",
      "--------------------\n",
      "The current delta:\t [0, 2, 3, 0, -2]\n",
      "If accumulate now:\t [0, 2, 5, 5, 3]\n",
      "--------------------\n",
      "The current delta:\t [-2, 2, 3, 2, -2]\n",
      "If accumulate now:\t [-2, 0, 3, 5, 3]\n",
      "--------------------\n"
     ]
    },
    {
     "data": {
      "text/plain": [
       "[-2, 0, 3, 5, 3]"
      ]
     },
     "execution_count": 16,
     "metadata": {},
     "output_type": "execute_result"
    }
   ],
   "source": [
    "Solution().getModifiedArray(5, [[1,3,2],[2,4,3],[0,2,-2]])"
   ]
  },
  {
   "cell_type": "code",
   "execution_count": 3,
   "metadata": {},
   "outputs": [],
   "source": [
    "def count1(x):\n",
    "    binary = format(x,'b')\n",
    "    count = 0\n",
    "    for i in binary:\n",
    "        if i == '1': count += 1 \n",
    "    return count\n"
   ]
  },
  {
   "cell_type": "code",
   "execution_count": 5,
   "metadata": {},
   "outputs": [],
   "source": [
    "class Solution:\n",
    "    def sortByBits(self, arr: list[int]) -> list[int]:\n",
    "        n = list(arr)\n",
    "        arr.sort()\n",
    "        def count1(x):\n",
    "            binary = format(x,'b')\n",
    "            count = 0\n",
    "            for i in binary:\n",
    "                if i == '1': count += 1 \n",
    "            return count\n",
    "        arr.sort(key = lambda x: count1(x))\n",
    "        return arr"
   ]
  },
  {
   "cell_type": "code",
   "execution_count": 6,
   "metadata": {},
   "outputs": [
    {
     "data": {
      "text/plain": [
       "[1, 2, 4, 8, 16, 32, 64, 128, 256, 512, 1024]"
      ]
     },
     "execution_count": 6,
     "metadata": {},
     "output_type": "execute_result"
    }
   ],
   "source": [
    "Solution().sortByBits([1024,512,256,128,64,32,16,8,4,2,1])"
   ]
  }
 ],
 "metadata": {
  "kernelspec": {
   "display_name": "Python 3.9.7 ('base')",
   "language": "python",
   "name": "python3"
  },
  "language_info": {
   "codemirror_mode": {
    "name": "ipython",
    "version": 3
   },
   "file_extension": ".py",
   "mimetype": "text/x-python",
   "name": "python",
   "nbconvert_exporter": "python",
   "pygments_lexer": "ipython3",
   "version": "3.9.7"
  },
  "orig_nbformat": 4,
  "vscode": {
   "interpreter": {
    "hash": "39f5abcd422d605275ded4899c318d6924633141c4df25463611bc89b07d5dc8"
   }
  }
 },
 "nbformat": 4,
 "nbformat_minor": 2
}
