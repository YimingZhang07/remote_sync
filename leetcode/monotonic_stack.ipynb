{
 "cells": [
  {
   "cell_type": "markdown",
   "id": "471b2630-53ef-4037-8b5f-d43c652e1833",
   "metadata": {},
   "source": [
    "# Monotonic Stack"
   ]
  },
  {
   "cell_type": "markdown",
   "id": "1389ed8e-5577-4ef4-ac40-051f1ccf8cef",
   "metadata": {},
   "source": [
    "## 496. Next Greater Element I"
   ]
  },
  {
   "cell_type": "markdown",
   "id": "27a20dac-7e38-4428-b360-bec36257df04",
   "metadata": {},
   "source": [
    "The stack maintains the largest numbers observed from right to left by far. This stack is stack is **Monotonic** meaning that when a new value wants to be pushed into the stack, all the smallers values at back are popped. Therefore, the last value of a stack will be the next greater element than the current."
   ]
  },
  {
   "cell_type": "code",
   "execution_count": 32,
   "id": "fd7b410d-0802-4575-8fb7-66e024625b7f",
   "metadata": {},
   "outputs": [],
   "source": [
    "class Solution:\n",
    "    def nextGreaterElement(self, nums1: list[int], nums2: list[int]) -> list[int]:\n",
    "        n = len(nums2)\n",
    "        stack = list()\n",
    "        hash_map = dict()\n",
    "        # pop all the smaller values\n",
    "        for i in range(n - 1, -1, -1):\n",
    "            while stack and nums2[i] >= stack[-1]:\n",
    "                stack.pop()\n",
    "            # the current value is the largest by far? or it stops before a value larger than itself\n",
    "            if stack:\n",
    "                hash_map[nums2[i]] = stack[-1]\n",
    "            else:\n",
    "                hash_map[nums2[i]] = -1\n",
    "\n",
    "            stack.append(nums2[i])\n",
    "\n",
    "        return [hash_map[k] for k in nums1]"
   ]
  },
  {
   "cell_type": "markdown",
   "id": "4d31759f-38b0-4345-b182-69800e978276",
   "metadata": {},
   "source": [
    "## 739. Daily Temperatures"
   ]
  },
  {
   "cell_type": "markdown",
   "id": "7eb6e4d9-775c-4572-bb5d-0e7af3838fd4",
   "metadata": {},
   "source": [
    "https://leetcode.com/problems/daily-temperatures/\n",
    "\n",
    "1. The stack stores the index of the days that haven't been matched with a higher temperatures.\n",
    "2. If the current loop finds a higher temperature, then all the days in the stack are poped, with the difference in the indexes be the distance we want."
   ]
  },
  {
   "cell_type": "code",
   "execution_count": 15,
   "id": "5ebe2f95-1df3-4945-892e-f230a80da566",
   "metadata": {},
   "outputs": [],
   "source": [
    "class Solution:\n",
    "    def dailyTemperatures(self, temperatures: list[int]) -> list[int]:\n",
    "        \"\"\"Return the distance to the next number greater than current.\n",
    "        \n",
    "        Leetcode 0739.\n",
    "        \"\"\"\n",
    "        n = len(temperatures)\n",
    "        stack = list()\n",
    "        res = [0] * n\n",
    "        for i in range(n):\n",
    "            while stack and temperatures[i] > temperatures[stack[-1]]:\n",
    "                idx = stack.pop()\n",
    "                res[idx] = i - idx\n",
    "            stack.append(i)\n",
    "        return res  "
   ]
  },
  {
   "cell_type": "markdown",
   "id": "3e5c3767-7641-4889-aab8-6c20bd1266bf",
   "metadata": {},
   "source": [
    "## 239. Sliding Window Maximum"
   ]
  },
  {
   "cell_type": "markdown",
   "id": "310f5c52-2b55-4cd8-8dd3-f041546a122b",
   "metadata": {},
   "source": [
    "**Stage 1: form a window**: create the very first window of length k, we need to find the largest number of the first k numbers, and initialize the maximum sequence `ans`.\n",
    "\n",
    "**Stage 2: slide the window**\n",
    "\n",
    "- Manage the deque: every time the window meets a new number, we need to evaluate if it has the potential of being the maximum in future cases. All the values that are smaller to it in the deque is poped before it is inserted. There might be other larger number in the pool that is still in effective.\n",
    "- Pop the retired maximum. Then we need to pop from the left to see if any existing maximums should retire because it is beyond the window.\n",
    "- Append the maximum. Now, we have hired the new maximum, and the old maximums are retired. Whoever in the pool are still in effective, and the largest should be kept in the maximum sequence.\n",
    "\n",
    "**Note**\n",
    "\n",
    "1. The deque here only stores the indexes of the numbers that can potentially be the maximum of a sliding window.\n",
    "2. Only a decreasing (monotonic) structure is allowed inside."
   ]
  },
  {
   "cell_type": "code",
   "execution_count": 26,
   "id": "07dfa5e0-0ce0-4cc0-8dca-0e2e313a0849",
   "metadata": {},
   "outputs": [],
   "source": [
    "class Solution:\n",
    "    def maxSlidingWindow(self, nums: list[int], k: int) -> list[int]:\n",
    "        from collections import deque\n",
    "        n = len(nums)\n",
    "        q = deque()\n",
    "        \n",
    "        # for the initial window to form\n",
    "        for i in range(k):\n",
    "            while q and nums[i] >= nums[q[-1]]:\n",
    "                q.pop()\n",
    "            q.append(i)\n",
    "\n",
    "        ans = [nums[q[0]]]\n",
    "        \n",
    "        # slide the window\n",
    "        for i in range(k, n):\n",
    "            while q and nums[i] >= nums[q[-1]]:\n",
    "                q.pop()\n",
    "            q.append(i)\n",
    "            \n",
    "            # see if the front of the queue is out side of the current window\n",
    "            while q[0] <= i - k:\n",
    "                q.popleft()\n",
    "            # append the answer\n",
    "            ans.append(nums[q[0]])\n",
    "\n",
    "        return ans"
   ]
  }
 ],
 "metadata": {
  "kernelspec": {
   "display_name": "Python 3 (ipykernel)",
   "language": "python",
   "name": "python3"
  },
  "language_info": {
   "codemirror_mode": {
    "name": "ipython",
    "version": 3
   },
   "file_extension": ".py",
   "mimetype": "text/x-python",
   "name": "python",
   "nbconvert_exporter": "python",
   "pygments_lexer": "ipython3",
   "version": "3.9.7"
  },
  "toc-autonumbering": false,
  "toc-showtags": false,
  "vscode": {
   "interpreter": {
    "hash": "39f5abcd422d605275ded4899c318d6924633141c4df25463611bc89b07d5dc8"
   }
  }
 },
 "nbformat": 4,
 "nbformat_minor": 5
}
