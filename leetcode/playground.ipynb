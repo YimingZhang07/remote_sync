{
 "cells": [
  {
   "cell_type": "markdown",
   "metadata": {},
   "source": [
    "## 202. Happy Number"
   ]
  },
  {
   "cell_type": "markdown",
   "metadata": {},
   "source": [
    "https://leetcode.cn/problems/happy-number/\n",
    "\n",
    "The difficulty is how to determine the stopping criteria. The answer is that if this doesn't converge to 1, then there is a loop. So we just need a set to store the values."
   ]
  },
  {
   "cell_type": "code",
   "execution_count": 1,
   "metadata": {},
   "outputs": [],
   "source": [
    "class Solution:\n",
    "    def isHappy(self, n: int) -> bool:\n",
    "        def transform(x):\n",
    "            s = str(x)\n",
    "            length = len(s)\n",
    "            _sum = 0\n",
    "            for i in range(length):\n",
    "                _sum += int(s[i])**2\n",
    "            return _sum\n",
    "\n",
    "        seen = set()\n",
    "        while n != 1:\n",
    "            n = transform(n)\n",
    "            if n in seen:\n",
    "                return False\n",
    "            else:\n",
    "                seen.add(n)\n",
    "\n",
    "        return True"
   ]
  },
  {
   "cell_type": "markdown",
   "metadata": {},
   "source": [
    "## 1706. Where Will the Ball Fall"
   ]
  },
  {
   "cell_type": "markdown",
   "metadata": {},
   "source": [
    "This is a simulation problem. The problem setup is interesting. No easy way to solve, only the stopping criteria needs some thought."
   ]
  },
  {
   "cell_type": "code",
   "execution_count": 8,
   "metadata": {},
   "outputs": [],
   "source": [
    "class Solution:\n",
    "    def findBall(self, grid: list[list[int]]) -> list[int]:\n",
    "        m = len(grid)\n",
    "        n = len(grid[0])\n",
    "        res = [-1] * n\n",
    "        for j in range(n):\n",
    "            col = j\n",
    "            # simulate the jth ball\n",
    "            for i in range(m):\n",
    "                # current direction +1 right, -1 left\n",
    "                direction = grid[i][col]\n",
    "                col += direction\n",
    "                # if the ball reaches the wall? or there is a \"V\". Within the same row \"i\", look right or look to the left, and see if the directions differ\n",
    "                if col < 0 or col == n or direction != grid[i][col]:\n",
    "                    col = -1\n",
    "                    break\n",
    "            res[j] = col\n",
    "        return res"
   ]
  },
  {
   "cell_type": "markdown",
   "metadata": {},
   "source": [
    "## 102. Binary Tree Level Order Traversal"
   ]
  },
  {
   "cell_type": "markdown",
   "metadata": {},
   "source": [
    "Very good solution:\n",
    "https://leetcode.cn/problems/binary-tree-level-order-traversal/solution/bfs-de-shi-yong-chang-jing-zong-jie-ceng-xu-bian-l/"
   ]
  },
  {
   "cell_type": "code",
   "execution_count": 3,
   "metadata": {},
   "outputs": [],
   "source": [
    "# Definition for a binary tree node.\n",
    "# class TreeNode:\n",
    "#     def __init__(self, val=0, left=None, right=None):\n",
    "#         self.val = val\n",
    "#         self.left = left\n",
    "#         self.right = right\n",
    "class Solution:\n",
    "    def levelOrder(self, root) -> list[list[int]]:\n",
    "        res = list()\n",
    "        from collections import deque\n",
    "        d = deque()\n",
    "        if root is not None:\n",
    "            d.append(root)\n",
    "        while len(d) != 0:\n",
    "            level = list()\n",
    "            n = len(d)\n",
    "            # process all the values in the last layer\n",
    "            for i in range(n):\n",
    "                cur_node = d.popleft()\n",
    "                level.append(cur_node.val)\n",
    "                if cur_node.left is not None:\n",
    "                    d.append(cur_node.left)\n",
    "                if cur_node.right is not None:\n",
    "                    d.append(cur_node.right)\n",
    "            res.append(level)\n",
    "        return res"
   ]
  },
  {
   "cell_type": "code",
   "execution_count": null,
   "metadata": {},
   "outputs": [],
   "source": []
  },
  {
   "cell_type": "code",
   "execution_count": 22,
   "metadata": {},
   "outputs": [],
   "source": [
    "class Solution:\n",
    "    def combinationSum2(self, candidates, target):\n",
    "        res = list()\n",
    "        n = len(candidates)\n",
    "        def backtrack(idx, comb):\n",
    "            # meet the target\n",
    "            if sum(comb) == target:\n",
    "                res.append(comb)\n",
    "                return\n",
    "\n",
    "            # all the numbers have been considered\n",
    "            if idx == n or sum(comb) > target:\n",
    "                return\n",
    "            \n",
    "            for i in range(idx, n):\n",
    "                if i > idx and candidates[i] == candidates[i-1]:\n",
    "                    continue\n",
    "                backtrack(i + 1, comb + [candidates[i]])\n",
    "\n",
    "        candidates.sort()\n",
    "        backtrack(0, [])\n",
    "        return res"
   ]
  },
  {
   "cell_type": "code",
   "execution_count": 23,
   "metadata": {},
   "outputs": [
    {
     "data": {
      "text/plain": [
       "[[1, 1, 6], [1, 2, 5], [1, 7], [2, 6]]"
      ]
     },
     "execution_count": 23,
     "metadata": {},
     "output_type": "execute_result"
    }
   ],
   "source": [
    "Solution().combinationSum2([10,1,2,7,6,1,5], 8)"
   ]
  },
  {
   "cell_type": "markdown",
   "metadata": {},
   "source": [
    "## Option Simulation"
   ]
  },
  {
   "cell_type": "code",
   "execution_count": 37,
   "metadata": {},
   "outputs": [],
   "source": [
    "#Import Libraries\n",
    "import opstrat as op\n",
    "#Declare parameters\n",
    "K=100    #spot price\n",
    "St=208   #current stock price\n",
    "r=4      #4% risk free rate\n",
    "t=30     #time to expiry, 30 days \n",
    "v=20     #volatility \n",
    "type='c' #Option type call\n",
    "#Black Scholes Model\n",
    "bsm=op.black_scholes(K=K, St=St, r=r, t=t, \n",
    "                     v=v, type='c')"
   ]
  },
  {
   "cell_type": "code",
   "execution_count": 38,
   "metadata": {},
   "outputs": [
    {
     "data": {
      "text/plain": [
       "{'value': {'option value': 108.32822727595646,\n",
       "  'intrinsic value': 108,\n",
       "  'time value': 0.32822727595646484},\n",
       " 'greeks': {'delta': 1.0,\n",
       "  'gamma': 4.163942032170844e-38,\n",
       "  'theta': -0.010922933997155456,\n",
       "  'vega': 2.9613499410384555e-37,\n",
       "  'rho': 0.08192200497866592}}"
      ]
     },
     "execution_count": 38,
     "metadata": {},
     "output_type": "execute_result"
    }
   ],
   "source": [
    "bsm"
   ]
  },
  {
   "cell_type": "code",
   "execution_count": 92,
   "metadata": {},
   "outputs": [],
   "source": [
    "import numpy as np\n",
    "K = 100\n",
    "_St = np.linspace(80, 120, 20)\n",
    "r = 4\n",
    "_t = [30, 90, 180, 360]\n",
    "v = 20"
   ]
  },
  {
   "cell_type": "code",
   "execution_count": 93,
   "metadata": {},
   "outputs": [],
   "source": [
    "data = []\n",
    "for St in _St:\n",
    "    for t in _t:\n",
    "        entry = list()\n",
    "        name = list()\n",
    "        bsm=op.black_scholes(K=St, St=St, r=r, t=t, v=v, type='c')\n",
    "        entry.append(St)\n",
    "        entry.append(t)\n",
    "        for i in bsm.keys():\n",
    "            for j in bsm[i].keys():\n",
    "                name.append(j)\n",
    "                entry.append(bsm[i][j])\n",
    "        data.append(entry)"
   ]
  },
  {
   "cell_type": "code",
   "execution_count": 89,
   "metadata": {},
   "outputs": [],
   "source": [
    "import pandas as pd"
   ]
  },
  {
   "cell_type": "code",
   "execution_count": 94,
   "metadata": {},
   "outputs": [],
   "source": [
    "df = pd.DataFrame(data, columns = [\"spot\", \"maturity\"] + name)"
   ]
  },
  {
   "cell_type": "code",
   "execution_count": 95,
   "metadata": {},
   "outputs": [
    {
     "data": {
      "text/plain": [
       "<matplotlib.legend.Legend at 0x205e86601c0>"
      ]
     },
     "execution_count": 95,
     "metadata": {},
     "output_type": "execute_result"
    },
    {
     "data": {
      "image/png": "[encoded data removed]",
      "text/plain": [
       "<Figure size 864x576 with 1 Axes>"
      ]
     },
     "metadata": {},
     "output_type": "display_data"
    }
   ],
   "source": [
    "from cProfile import label\n",
    "import matplotlib.pyplot as plt\n",
    "plt.style.use('ggplot')\n",
    "\n",
    "fig, ax = plt.subplots(figsize = (12,8))\n",
    "for t in df.maturity.unique():\n",
    "    _ = df.query(\"maturity == @t\")\n",
    "    ax.plot(_.spot, _.gamma, label = t)\n",
    "\n",
    "ax.tick_params(axis='both', labelsize=16)\n",
    "ax.set_xlabel(\"Spot Price\", fontsize=18)\n",
    "ax.set_ylabel(\"Gamma\", fontsize=18)\n",
    "plt.legend(title = \"Time to maturity\", title_fontsize = 14, fontsize=14, loc = 1)"
   ]
  },
  {
   "cell_type": "markdown",
   "metadata": {},
   "source": [
    "## No consecutive heads"
   ]
  },
  {
   "cell_type": "code",
   "execution_count": 35,
   "metadata": {},
   "outputs": [],
   "source": [
    "def possiblesequence(n: int, k:int):\n",
    "    res = list()\n",
    "    def backtrack(idx, comb):\n",
    "        if len(comb) == n:\n",
    "            res.append(\"\".join(comb))\n",
    "        if len(comb) > n:\n",
    "            return\n",
    "        backtrack(idx + 1, comb + [\"H\"])\n",
    "        backtrack(idx + 1, comb + [\"T\"])\n",
    "        \n",
    "    backtrack(0, [])\n",
    "    \n",
    "    count = 0\n",
    "    for seq in res:\n",
    "        if \"H\"*k not in seq:\n",
    "            count += 1\n",
    "    print(\"Toss a coin {0} times:\".format(n))\n",
    "    print(\"No Consequtive {0} heads : {1}\".format(k, count))\n",
    "    print(\"Total Possibilities: {0}\".format(2**n))\n",
    "    # return count"
   ]
  },
  {
   "cell_type": "code",
   "execution_count": 36,
   "metadata": {},
   "outputs": [
    {
     "name": "stdout",
     "output_type": "stream",
     "text": [
      "Toss a coin 10 times:\n",
      "No Consequtive 2 heads : 144\n",
      "Total Possibilities: 1024\n"
     ]
    }
   ],
   "source": [
    "possiblesequence(10,2)"
   ]
  }
 ],
 "metadata": {
  "kernelspec": {
   "display_name": "Python 3.9.7 ('base')",
   "language": "python",
   "name": "python3"
  },
  "language_info": {
   "codemirror_mode": {
    "name": "ipython",
    "version": 3
   },
   "file_extension": ".py",
   "mimetype": "text/x-python",
   "name": "python",
   "nbconvert_exporter": "python",
   "pygments_lexer": "ipython3",
   "version": "3.9.7"
  },
  "orig_nbformat": 4,
  "vscode": {
   "interpreter": {
    "hash": "39f5abcd422d605275ded4899c318d6924633141c4df25463611bc89b07d5dc8"
   }
  }
 },
 "nbformat": 4,
 "nbformat_minor": 2
}
