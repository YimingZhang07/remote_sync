{
 "cells": [
  {
   "cell_type": "markdown",
   "id": "471b2630-53ef-4037-8b5f-d43c652e1833",
   "metadata": {},
   "source": [
    "# Double Pointers"
   ]
  },
  {
   "cell_type": "markdown",
   "id": "5f0f959c-828e-4610-824c-383e4cfa85d1",
   "metadata": {},
   "source": [
    "## 15. 3Sum"
   ]
  },
  {
   "cell_type": "markdown",
   "id": "a3c6a0bf-9878-45cc-8eb4-3130793cdcf4",
   "metadata": {},
   "source": [
    "This problem can be solved by sorting and double pointers.\n",
    "\n",
    "**Outer For Loop:**\n",
    "\n",
    "1. To make the sum 0, the first number must satisfy `nums[i] <= 0`.\n",
    "2. Skip the values if the current `nums[i]` is repeated.\n",
    "\n",
    "**Inner While Loop:**\n",
    "\n",
    "1. For each `nums[i]`, start two pointers from left and right of the remaining string, check the current sum, and skip the steps if the same value have been considered for the sum of zero.\n",
    "2. Note that the pointers are moving towards the middle together, and each time we adjust one pointer by the direction of the current sum since the array is sorted.\n"
   ]
  },
  {
   "cell_type": "code",
   "execution_count": 25,
   "id": "915b4aeb",
   "metadata": {},
   "outputs": [],
   "source": [
    "class Solution:\n",
    "    def threeSum(self, nums: list[int]) -> list[list[int]]:\n",
    "        nums.sort()\n",
    "        n = len(nums)\n",
    "        res = list()\n",
    "        for i in range(n - 2):\n",
    "            # deal with impossible values and repeated values\n",
    "            if nums[i] > 0:\n",
    "                break\n",
    "            if i > 0 and nums[i-1] == nums[i]:\n",
    "                continue\n",
    "\n",
    "            left = i + 1\n",
    "            right = n - 1\n",
    "            while left < right:\n",
    "                cur_sum = nums[i] + nums[left] + nums[right]\n",
    "\n",
    "                if cur_sum == 0:\n",
    "                    res.append([nums[i], nums[left], nums[right]])\n",
    "\n",
    "                    while left < right and nums[left] == nums[left + 1]:\n",
    "                        left += 1\n",
    "\n",
    "                    while left < right and nums[right] == nums[right - 1]:\n",
    "                        right -= 1\n",
    "\n",
    "                    left += 1\n",
    "                    right -= 1\n",
    "\n",
    "                elif cur_sum > 0:\n",
    "                    right -= 1\n",
    "\n",
    "                else:\n",
    "                    left += 1\n",
    "        return res\n"
   ]
  },
  {
   "cell_type": "markdown",
   "id": "a6ee890e",
   "metadata": {},
   "source": [
    "## 75. Sort Colors"
   ]
  },
  {
   "cell_type": "markdown",
   "id": "cb11e302",
   "metadata": {},
   "source": [
    "Our goal is to find all the 0s and 1s and place them to the left / middle. That means we need two pointers to track their positions.\n",
    "\n",
    "Use double pointers, namely `p0` and `p1`, pointing at where the next found 0/1 should sit on. Use another runner to iterate the `nums`.\n",
    "\n",
    "- If we find a 1, then switch the numbers, and move `p1` to the next seat, waiting for the next \"1\".\n",
    "- If we find a 0, then both pointers should move finally, but before that: note that `p0` might be pointing at a number \"1\", which is our second priority, and we cannot move it to the back. Therefore, we first move \"0\" to this seat, and then move the number \"1\" to its the `p1` pointer.\n"
   ]
  },
  {
   "cell_type": "code",
   "execution_count": 3,
   "id": "a663af76",
   "metadata": {},
   "outputs": [],
   "source": [
    "class Solution:\n",
    "    def sortColors(self, nums: list[int]) -> None:\n",
    "        \"\"\"\n",
    "        Do not return anything, modify nums in-place instead.\n",
    "        \"\"\"\n",
    "        p0, p1 = 0, 0\n",
    "        n = len(nums)\n",
    "        for i in range(n):\n",
    "            if nums[i] == 1:\n",
    "                nums[p1], nums[i] = nums[i], nums[p1]\n",
    "                p1+=1\n",
    "            if nums[i] == 0:\n",
    "                if nums[p0] == 1:\n",
    "                    nums[p0], nums[i] = nums[i], nums[p0]\n",
    "                    nums[p1], nums[i] = nums[i], nums[p1]\n",
    "                else:\n",
    "                    nums[p0], nums[i] = nums[i], nums[p0]\n",
    "                p0+=1\n",
    "                p1+=1\n",
    "            # print(nums)\n",
    "        return nums"
   ]
  },
  {
   "cell_type": "markdown",
   "id": "280252a3",
   "metadata": {},
   "source": [
    "## 283. Move Zeroes"
   ]
  },
  {
   "cell_type": "markdown",
   "id": "1885f2c0",
   "metadata": {},
   "source": [
    "Problem: move all the zeros to the end of the list.\n",
    "\n",
    "Use two pointers, `left` and `right`, the goal is to make all the numbers to the left of the `left` pointer be non-zero, and values between `left`(including) and `right` zero.\n",
    "\n",
    "If the `right` pointer points to a 0, we expect to see this, continue to look at the next.\n",
    "\n",
    "If it is not pointing to the 0, we exchange this non-zero value to the `left` pointer, and since the `left` pointer points to zero, then the zero is exchanged to the back of the list.\n",
    "\n",
    "**Note:** The `left` pointer stops until it reaches a zero. See from the example below, if no zeros have been met, then `left` and `right` move to the right together by exchanging the value by itself."
   ]
  },
  {
   "cell_type": "code",
   "execution_count": 2,
   "id": "f4ec1471",
   "metadata": {},
   "outputs": [],
   "source": [
    "class Solution:\n",
    "    def moveZeroes(self, nums: list[int]) -> None:\n",
    "        n = len(nums)\n",
    "        left = right = 0\n",
    "        while right < n:\n",
    "            if nums[right] != 0:\n",
    "                print(\"Exchange {0} and {1}\".format(nums[left], nums[right]))\n",
    "                nums[left], nums[right] = nums[right], nums[left]\n",
    "                left += 1\n",
    "            right += 1\n",
    "            print(nums)\n",
    "            print(\"*\"*20, \"\\n\")"
   ]
  },
  {
   "cell_type": "code",
   "execution_count": 4,
   "id": "d1b5357a",
   "metadata": {},
   "outputs": [
    {
     "name": "stdout",
     "output_type": "stream",
     "text": [
      "Exchange 1 and 1\n",
      "[1, 3, 0, 5, 0, 0, 9, 8]\n",
      "******************** \n",
      "\n",
      "Exchange 3 and 3\n",
      "[1, 3, 0, 5, 0, 0, 9, 8]\n",
      "******************** \n",
      "\n",
      "[1, 3, 0, 5, 0, 0, 9, 8]\n",
      "******************** \n",
      "\n",
      "Exchange 0 and 5\n",
      "[1, 3, 5, 0, 0, 0, 9, 8]\n",
      "******************** \n",
      "\n",
      "[1, 3, 5, 0, 0, 0, 9, 8]\n",
      "******************** \n",
      "\n",
      "[1, 3, 5, 0, 0, 0, 9, 8]\n",
      "******************** \n",
      "\n",
      "Exchange 0 and 9\n",
      "[1, 3, 5, 9, 0, 0, 0, 8]\n",
      "******************** \n",
      "\n",
      "Exchange 0 and 8\n",
      "[1, 3, 5, 9, 8, 0, 0, 0]\n",
      "******************** \n",
      "\n"
     ]
    }
   ],
   "source": [
    "Solution().moveZeroes([1,3,0,5,0,0,9,8])"
   ]
  },
  {
   "cell_type": "markdown",
   "id": "4f2f9caa",
   "metadata": {},
   "source": [
    "## 713. Subarray Product Less Than K"
   ]
  },
  {
   "cell_type": "markdown",
   "id": "be33d84c",
   "metadata": {},
   "source": [
    "**Problem:** Given an array of integers nums and an integer k, return the number of contiguous subarrays where the product of all the elements in the subarray is strictly less than k.\n",
    "\n",
    "**Solution:** We can use double pointers to record the current start and end of the subarray. Since the product of a subarray is always increasing, which means if `subarray[i,j]` prodcut less than K, then product of `subarray[i+1,j]` is also less than K. So we only need to record the whole product from `i` to `j`, and update the number by `j - i + 1`.\n",
    "\n",
    "The `i` pointer is only updated when the subarray exceeds the K limit."
   ]
  },
  {
   "cell_type": "code",
   "execution_count": 5,
   "id": "5706f199",
   "metadata": {},
   "outputs": [],
   "source": [
    "class Solution:\n",
    "    def numSubarrayProductLessThanK(self, nums: list[int], k: int) -> int:\n",
    "        count = 0\n",
    "        i = 0\n",
    "        prod = 1\n",
    "        n = len(nums)\n",
    "        for j in range(n):\n",
    "            prod = prod * nums[j]\n",
    "            while i <= j and prod >= k:\n",
    "                prod = prod / nums[i]\n",
    "                i+=1\n",
    "            count += j - i + 1\n",
    "        return count"
   ]
  },
  {
   "cell_type": "markdown",
   "id": "406bc897",
   "metadata": {},
   "source": [
    "## 3. Longest Substring Without Repeating Characters"
   ]
  },
  {
   "cell_type": "markdown",
   "id": "f2445212",
   "metadata": {},
   "source": [
    "**Problem:** Given a string s, find the length of the longest substring without repeating characters.\n",
    "\n",
    "**Solution:** This is a similar problem to the last one, still the substring is required to be contiguous, instead the criteria has changed from product less than K, to without repeating chars.\n",
    "\n",
    "Use double pointers, and maintain a set to keep the chars in the current substring. The `left` pointer is updated only when the criteria is contradicted."
   ]
  },
  {
   "cell_type": "code",
   "execution_count": 1,
   "id": "fdf98472",
   "metadata": {},
   "outputs": [],
   "source": [
    "class Solution:\n",
    "    def lengthOfLongestSubstring(self, s: str) -> int:\n",
    "        n = len(s)\n",
    "        left, right = 0, -1\n",
    "        seen = set()\n",
    "        max_len = 0\n",
    "        cur_len = 0\n",
    "        while left < n:\n",
    "            while right + 1 < n and s[right + 1] not in seen:\n",
    "                seen.add(s[right + 1])\n",
    "                right += 1\n",
    "                cur_len += 1\n",
    "                \n",
    "            max_len = max(max_len, cur_len)\n",
    "            seen.remove(s[left])\n",
    "            cur_len -= 1\n",
    "            left += 1\n",
    "        return max_len"
   ]
  },
  {
   "cell_type": "markdown",
   "id": "04fe1f77",
   "metadata": {},
   "source": [
    "## 11. Container With Most Water"
   ]
  },
  {
   "cell_type": "markdown",
   "id": "7da87e29",
   "metadata": {},
   "source": [
    "**Problem:** https://leetcode.com/problems/container-with-most-water/\n",
    "\n",
    "**Solution:**\n",
    "1. Consider the `left` and `right` vertical lines, we can move them from two sides to the middle, since `left < right` to make a triangle.\n",
    "2. At each step, we move only the shorter line, since this offers positive probability to increase the area, while moving the longer line will guarantee to shrink the area."
   ]
  },
  {
   "cell_type": "code",
   "execution_count": 2,
   "id": "b50f6e8c",
   "metadata": {},
   "outputs": [],
   "source": [
    "class Solution:\n",
    "    def maxArea(self, height: list[int]) -> int:\n",
    "        n = len(height)\n",
    "        left = 0\n",
    "        right = n - 1\n",
    "        max_area = 0\n",
    "        while left < right:\n",
    "            max_area = max(max_area, (right - left) * min(height[left], height[right]))\n",
    "            if height[left] < height[right]:\n",
    "                left += 1\n",
    "            else:\n",
    "                right -= 1\n",
    "        return max_area"
   ]
  },
  {
   "cell_type": "markdown",
   "id": "3b24f11f",
   "metadata": {},
   "source": [
    "## 142. Linked List Cycle II"
   ]
  },
  {
   "cell_type": "markdown",
   "id": "147efdff",
   "metadata": {},
   "source": [
    "**Problem:** to find out if there is a loop in the linked list data structure.\n",
    "\n",
    "**Solution:** this algorithm is classic. The first stage is to use `fast` and `slow` pointers, if they will meet, it means the linked list has a loop. Then, set the `fast` pointer to the `head` again, and move the `fast` and `slow` in the same speed, they will exactly meet at the entrance of the loop."
   ]
  },
  {
   "cell_type": "code",
   "execution_count": 6,
   "id": "37176f11",
   "metadata": {},
   "outputs": [],
   "source": [
    "# Definition for singly-linked list.\n",
    "class ListNode:\n",
    "    def __init__(self, x):\n",
    "        self.val = x\n",
    "        self.next = None\n",
    "\n",
    "class Solution(object):\n",
    "    def detectCycle(self, head):\n",
    "        fast, slow = head, head\n",
    "        while True:\n",
    "            if not (fast and fast.next): return\n",
    "            fast, slow = fast.next.next, slow.next\n",
    "            if fast == slow: break\n",
    "        fast = head\n",
    "        while fast != slow:\n",
    "            fast, slow = fast.next, slow.next\n",
    "        return fast"
   ]
  },
  {
   "cell_type": "markdown",
   "id": "2f877103",
   "metadata": {},
   "source": [
    "## 287. Find the Duplicate Number"
   ]
  },
  {
   "cell_type": "markdown",
   "id": "c2a5f2f0",
   "metadata": {},
   "source": [
    "**Problem:** Find the only one value that is duplicated in the sequnce. The sequence is in the range of 1-5, and the nums contain `n` integers.\n",
    "\n",
    "**Solution:** Using the same algo as the last problem? Why there is a loop? All the numbers here are treated as index, if there is one repeated, then it will directs the pointer to the same place twice. So there will be a loop.\n",
    "\n",
    "If the sequence contains no repeated number, then finally the list index will be out of range, like a linked list that directs to `None` at last."
   ]
  },
  {
   "cell_type": "code",
   "execution_count": 8,
   "id": "c574d527",
   "metadata": {},
   "outputs": [],
   "source": [
    "class Solution:\n",
    "    def findDuplicate(self, nums: list[int]) -> int:\n",
    "        slow, fast = 0, 0\n",
    "        while True:\n",
    "            slow = nums[slow]\n",
    "            fast = nums[nums[fast]]\n",
    "            if slow == fast: break\n",
    "        fast = 0\n",
    "        while fast != slow:\n",
    "            fast = nums[fast]\n",
    "            slow = nums[slow]\n",
    "        return fast"
   ]
  }
 ],
 "metadata": {
  "kernelspec": {
   "display_name": "Python 3 (ipykernel)",
   "language": "python",
   "name": "python3"
  },
  "language_info": {
   "codemirror_mode": {
    "name": "ipython",
    "version": 3
   },
   "file_extension": ".py",
   "mimetype": "text/x-python",
   "name": "python",
   "nbconvert_exporter": "python",
   "pygments_lexer": "ipython3",
   "version": "3.9.7"
  },
  "toc-autonumbering": false,
  "toc-showtags": false,
  "vscode": {
   "interpreter": {
    "hash": "39f5abcd422d605275ded4899c318d6924633141c4df25463611bc89b07d5dc8"
   }
  }
 },
 "nbformat": 4,
 "nbformat_minor": 5
}
