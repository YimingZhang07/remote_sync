{
 "cells": [
  {
   "cell_type": "markdown",
   "id": "471b2630-53ef-4037-8b5f-d43c652e1833",
   "metadata": {},
   "source": [
    "# Double Pointers"
   ]
  },
  {
   "cell_type": "markdown",
   "id": "5f0f959c-828e-4610-824c-383e4cfa85d1",
   "metadata": {},
   "source": [
    "## 15. 3Sum"
   ]
  },
  {
   "cell_type": "markdown",
   "id": "a3c6a0bf-9878-45cc-8eb4-3130793cdcf4",
   "metadata": {},
   "source": [
    "This problem can be solved by sorting and double pointers.\n",
    "\n",
    "1. To make the sum 0, the first number must have `nums[i] <= 0`.\n",
    "2. To avoid repeatation if we have considered the same value.\n",
    "3. Start two pointers from left and right of the remaining string, check the current sum, and skip the steps if the same value have been considered for the sum of zero. Note that the pointers are moving towards the middle together, and each time we adjust one pointer by the direction of the current sum. By default, only one of them is able to move by each step, unless they meet same values, or they meet the sum, then we can move multiple steps at the same time.\n"
   ]
  },
  {
   "cell_type": "code",
   "execution_count": 25,
   "id": "915b4aeb",
   "metadata": {},
   "outputs": [],
   "source": [
    "class Solution:\n",
    "    def threeSum(self, nums: list[int]) -> list[list[int]]:\n",
    "        nums.sort()\n",
    "        n = len(nums)\n",
    "        res = list()\n",
    "        for i in range(n - 2):\n",
    "            # deal with impossible values and repeated values\n",
    "            if nums[i] > 0:\n",
    "                break\n",
    "            if i > 0 and nums[i-1] == nums[i]:\n",
    "                continue\n",
    "\n",
    "            left = i + 1\n",
    "            right = n - 1\n",
    "            while left < right:\n",
    "                cur_sum = nums[i] + nums[left] + nums[right]\n",
    "\n",
    "                if cur_sum == 0:\n",
    "                    res.append([nums[i], nums[left], nums[right]])\n",
    "\n",
    "                    while left < right and nums[left] == nums[left + 1]:\n",
    "                        left += 1\n",
    "\n",
    "                    while left < right and nums[right] == nums[right - 1]:\n",
    "                        right -= 1\n",
    "\n",
    "                    left += 1\n",
    "                    right -= 1\n",
    "\n",
    "                elif cur_sum > 0:\n",
    "                    right -= 1\n",
    "\n",
    "                else:\n",
    "                    left += 1\n",
    "        return res\n"
   ]
  },
  {
   "cell_type": "markdown",
   "id": "a6ee890e",
   "metadata": {},
   "source": [
    "## 75. Sort Colors"
   ]
  },
  {
   "cell_type": "markdown",
   "id": "cb11e302",
   "metadata": {},
   "source": [
    "Our goal is to find all the 0s and 1s and place them to the left / middle. That means we need two pointers to track their positions.\n",
    "\n",
    "Use double pointers, namely `p0` and `p1`, pointing at where the next found 0/1 should sit on. Use another runner to iterate the `nums`.\n",
    "\n",
    "- If we find a 1, then switch the numbers, and move `p1` to the next seat, waiting for the next \"1\".\n",
    "- If we find a 0, then both pointers should move finally, but before that: note that `p0` might be pointing at a number \"1\", which is our second priority, and we cannot move it to the back. Therefore, we first move \"0\" to this seat, and then move the number \"1\" to its the `p1` pointer.\n"
   ]
  },
  {
   "cell_type": "code",
   "execution_count": 3,
   "id": "a663af76",
   "metadata": {},
   "outputs": [],
   "source": [
    "class Solution:\n",
    "    def sortColors(self, nums: list[int]) -> None:\n",
    "        \"\"\"\n",
    "        Do not return anything, modify nums in-place instead.\n",
    "        \"\"\"\n",
    "        p0, p1 = 0, 0\n",
    "        n = len(nums)\n",
    "        for i in range(n):\n",
    "            if nums[i] == 1:\n",
    "                nums[p1], nums[i] = nums[i], nums[p1]\n",
    "                p1+=1\n",
    "            if nums[i] == 0:\n",
    "                if nums[p0] == 1:\n",
    "                    nums[p0], nums[i] = nums[i], nums[p0]\n",
    "                    nums[p1], nums[i] = nums[i], nums[p1]\n",
    "                else:\n",
    "                    nums[p0], nums[i] = nums[i], nums[p0]\n",
    "                p0+=1\n",
    "                p1+=1\n",
    "            # print(nums)\n",
    "        return nums"
   ]
  },
  {
   "cell_type": "markdown",
   "id": "280252a3",
   "metadata": {},
   "source": [
    "## 283. Move Zeroes"
   ]
  },
  {
   "cell_type": "markdown",
   "id": "1885f2c0",
   "metadata": {},
   "source": [
    "Problem: move all the zeros to the end of the list.\n",
    "\n",
    "Use two pointers, `left` and `right`, the goal is to make all the numbers to the left of the `left` pointer be non-zero, and between `left` and `right` zero. If the `right` pointer is pointing a zero, we expect to see this, continue to look at the next. If it is not pointing to the 0, we want it to point it, so we exchange this non-zero value to the `left` pointer, and since values between `left` and `right` are all zeros, the zero is exchanged to the back of the list."
   ]
  },
  {
   "cell_type": "code",
   "execution_count": 4,
   "id": "f4ec1471",
   "metadata": {},
   "outputs": [],
   "source": [
    "class Solution:\n",
    "    def moveZeroes(self, nums: list[int]) -> None:\n",
    "        n = len(nums)\n",
    "        left = right = 0\n",
    "        while right < n:\n",
    "            if nums[right] != 0:\n",
    "                nums[left], nums[right] = nums[right], nums[left]\n",
    "                left += 1\n",
    "                # print(\"...\",nums)\n",
    "            right += 1\n",
    "            # print(nums)"
   ]
  }
 ],
 "metadata": {
  "kernelspec": {
   "display_name": "Python 3 (ipykernel)",
   "language": "python",
   "name": "python3"
  },
  "language_info": {
   "codemirror_mode": {
    "name": "ipython",
    "version": 3
   },
   "file_extension": ".py",
   "mimetype": "text/x-python",
   "name": "python",
   "nbconvert_exporter": "python",
   "pygments_lexer": "ipython3",
   "version": "3.9.7"
  },
  "toc-autonumbering": false,
  "toc-showtags": false,
  "vscode": {
   "interpreter": {
    "hash": "39f5abcd422d605275ded4899c318d6924633141c4df25463611bc89b07d5dc8"
   }
  }
 },
 "nbformat": 4,
 "nbformat_minor": 5
}
