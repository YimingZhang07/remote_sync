{
 "cells": [
  {
   "cell_type": "markdown",
   "metadata": {},
   "source": [
    "# DFS Search"
   ]
  },
  {
   "cell_type": "markdown",
   "metadata": {},
   "source": [
    "## 200. Number of Islands"
   ]
  },
  {
   "cell_type": "markdown",
   "metadata": {},
   "source": [
    "Please refer to the following:\n",
    "\n",
    "https://leetcode.cn/problems/number-of-islands/solution/dao-yu-lei-wen-ti-de-tong-yong-jie-fa-dfs-bian-li-/\n",
    "\n",
    "The above solution gives a universal framework for solving the island problems. The main ideas are:\n",
    "\n",
    "1. What is the base case? When the current search reaches the \"deepest\" and cannot go further. In this problem, there are three cases. First, the search goes beyond the grid, conditioned by `isInArea()`. Second is when we meet a \"0\". Third is when we have visited this land before, \"2\". If we meet any of these, the `dfs` will stop here.\n",
    "2. If not stopped by the base case, the search will continue to up, down, left, and right of the grid.\n",
    "\n",
    "In the main body of the program, we use a `for` loop to enter into any islands that have not been visited before. Once we enter, all the contiguous land should have been explored within this entrance. So we just need to count the number of times we intially call the `dfs` functions. That will be the number of islands."
   ]
  },
  {
   "cell_type": "code",
   "execution_count": 6,
   "metadata": {},
   "outputs": [],
   "source": [
    "class Solution:\n",
    "    def numIslands(self, grid: list[list[str]]) -> int:\n",
    "        from pprint import pprint\n",
    "        def dfs(i, j):\n",
    "            if not isInArea(i, j):\n",
    "                return\n",
    "            else:\n",
    "                # if this \n",
    "                if grid[i][j] != \"1\":\n",
    "                    return\n",
    "                # this point is visited\n",
    "                grid[i][j] = \"2\"\n",
    "\n",
    "                # search the other\n",
    "                dfs(i + 1, j)\n",
    "                dfs(i, j + 1)\n",
    "                dfs(i - 1, j)\n",
    "                dfs(i, j - 1)\n",
    "\n",
    "        def isInArea(i, j):\n",
    "            \"\"\"If the i, j have reached outside of the grid\n",
    "            \"\"\"\n",
    "            if i >= m or j >= n or i < 0  or j < 0:\n",
    "                return False\n",
    "            else:\n",
    "                return True\n",
    "        \n",
    "        m = len(grid)\n",
    "        n = len(grid[0])\n",
    "        nIsland = 0\n",
    "        for i in range(m):\n",
    "            for j in range(n):\n",
    "                if grid[i][j] == \"1\":\n",
    "                    dfs(i, j)\n",
    "                    nIsland += 1\n",
    "                    # pprint(grid)\n",
    "        return nIsland\n"
   ]
  }
 ],
 "metadata": {
  "kernelspec": {
   "display_name": "Python 3.9.7 ('base')",
   "language": "python",
   "name": "python3"
  },
  "language_info": {
   "codemirror_mode": {
    "name": "ipython",
    "version": 3
   },
   "file_extension": ".py",
   "mimetype": "text/x-python",
   "name": "python",
   "nbconvert_exporter": "python",
   "pygments_lexer": "ipython3",
   "version": "3.9.7"
  },
  "orig_nbformat": 4,
  "vscode": {
   "interpreter": {
    "hash": "39f5abcd422d605275ded4899c318d6924633141c4df25463611bc89b07d5dc8"
   }
  }
 },
 "nbformat": 4,
 "nbformat_minor": 2
}
