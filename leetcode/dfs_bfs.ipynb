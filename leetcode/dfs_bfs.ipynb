{
 "cells": [
  {
   "cell_type": "markdown",
   "metadata": {},
   "source": [
    "# DFS"
   ]
  },
  {
   "cell_type": "markdown",
   "metadata": {},
   "source": [
    "## 200. Number of Islands"
   ]
  },
  {
   "cell_type": "markdown",
   "metadata": {},
   "source": [
    "Please refer to the following:\n",
    "\n",
    "https://leetcode.cn/problems/number-of-islands/solution/dao-yu-lei-wen-ti-de-tong-yong-jie-fa-dfs-bian-li-/\n",
    "\n",
    "The above solution gives a universal framework for solving the island problems. The main ideas are:\n",
    "\n",
    "1. What is the base case? When the current search reaches the \"deepest\" and cannot go further. In this problem, there are three cases. First, the search goes beyond the grid, conditioned by `isInArea()`. Second is when we meet a \"0\". Third is when we have visited this land before, \"2\". If we meet any of these, the `dfs` will stop here.\n",
    "2. If not stopped by the base case, the search will continue to up, down, left, and right of the grid.\n",
    "\n",
    "In the main body of the program, we use a `for` loop to enter into any islands that have not been visited before. Once we enter, all the contiguous land should have been explored within this entrance. So we just need to count the number of times we intially call the `dfs` functions. That will be the number of islands."
   ]
  },
  {
   "cell_type": "code",
   "execution_count": 6,
   "metadata": {},
   "outputs": [],
   "source": [
    "class Solution:\n",
    "    def numIslands(self, grid: list[list[str]]) -> int:\n",
    "        from pprint import pprint\n",
    "        def dfs(i, j):\n",
    "            if not isInArea(i, j):\n",
    "                return\n",
    "            else:\n",
    "                # if this \n",
    "                if grid[i][j] != \"1\":\n",
    "                    return\n",
    "                # this point is visited\n",
    "                grid[i][j] = \"2\"\n",
    "\n",
    "                # search the other\n",
    "                dfs(i + 1, j)\n",
    "                dfs(i, j + 1)\n",
    "                dfs(i - 1, j)\n",
    "                dfs(i, j - 1)\n",
    "\n",
    "        def isInArea(i, j):\n",
    "            \"\"\"If the i, j have reached outside of the grid\n",
    "            \"\"\"\n",
    "            if i >= m or j >= n or i < 0  or j < 0:\n",
    "                return False\n",
    "            else:\n",
    "                return True\n",
    "        \n",
    "        m = len(grid)\n",
    "        n = len(grid[0])\n",
    "        nIsland = 0\n",
    "        for i in range(m):\n",
    "            for j in range(n):\n",
    "                if grid[i][j] == \"1\":\n",
    "                    dfs(i, j)\n",
    "                    nIsland += 1\n",
    "                    # pprint(grid)\n",
    "        return nIsland"
   ]
  },
  {
   "cell_type": "markdown",
   "metadata": {},
   "source": [
    "## 207. Course Schedule"
   ]
  },
  {
   "cell_type": "markdown",
   "metadata": {},
   "source": [
    "If there is a loop in the sequence of courses, then the shedule is not valid. The problem becomes finding if there is a loop.\n",
    "\n",
    "Use a `flags` sequence to record the status of each node.\n",
    "\n",
    "- `0` means this course hasn't been visited before\n",
    "- `-1` means this course has been visited by other searches, and it is proved to be good with all its subsequent courses, no loop going forward.\n",
    "- `1` means we have visited in the current search.\n",
    "\n",
    "When every the search meet a `1` again in the current search, the program should break, which means we have found a loop.\n",
    "\n",
    "The `dfs` should start from any course, as any of them can be a top level prerequisit (required for any other courses).\n",
    "\n",
    "https://leetcode.cn/problems/course-schedule/solution/course-schedule-tuo-bu-pai-xu-bfsdfsliang-chong-fa/"
   ]
  },
  {
   "cell_type": "code",
   "execution_count": 4,
   "metadata": {},
   "outputs": [],
   "source": [
    "class Solution:\n",
    "    def canFinish(self, numCourses: int, prerequisites: list[list[int]]) -> bool:\n",
    "        flags = [0] * numCourses\n",
    "        # build course map, with a structure of pre:[cur, cur, ...]\n",
    "        course_map = [[] for _ in range(numCourses)]\n",
    "        for cur, pre in prerequisites:\n",
    "            course_map[pre].append(cur)\n",
    "\n",
    "        def dfs(pre):\n",
    "            if flags[pre] == 1: return False\n",
    "            if flags[pre] == -1: return True\n",
    "            flags[pre] = 1\n",
    "            for cur in course_map[pre]:\n",
    "                if dfs(cur) == False: return False\n",
    "            flags[pre] = -1\n",
    "            return True\n",
    "\n",
    "        # start from any course as a pre course, no loop should be found\n",
    "        for pre in range(numCourses):\n",
    "            if dfs(pre) == False: return False\n",
    "        return True"
   ]
  },
  {
   "cell_type": "markdown",
   "metadata": {},
   "source": [
    "# BFS"
   ]
  },
  {
   "cell_type": "markdown",
   "metadata": {},
   "source": [
    "## 210. Course Schedule II\n"
   ]
  },
  {
   "cell_type": "markdown",
   "metadata": {},
   "source": [
    "Solution:\n",
    "\n",
    "1. Build a course map in a structure of \"prerequisit: [subsequent courses...]\".\n",
    "2. depth list: recording how many courses are required before taking this course.\n",
    "3. A `deque` that keeps all the courses with depth 0. These courses are free to take without concerns.\n",
    "\n",
    "Then, pop the courses in `deque` and then all its subsequent courses could have their depths deducted by 1. Add the courses that newly become the depth 0 courses. They are free to take after all the prerequisites are satisfied.\n",
    "\n",
    "Continue to do so, until all the depth 0 courses are taken.\n",
    "\n",
    "https://leetcode.cn/problems/course-schedule-ii/"
   ]
  },
  {
   "cell_type": "code",
   "execution_count": 3,
   "metadata": {},
   "outputs": [],
   "source": [
    "class Solution:\n",
    "    def findOrder(self, numCourses: int, prerequisites: list[list[int]]) -> list[int]:\n",
    "        import collections\n",
    "        course_map = collections.defaultdict(list)\n",
    "        depth = [0] * numCourses\n",
    "        result = list()\n",
    "\n",
    "        for cur, pre in prerequisites:\n",
    "            course_map[pre].append(cur)\n",
    "            depth[cur] += 1\n",
    "\n",
    "        q = collections.deque([_ for _ in range(numCourses) if depth[_] == 0])\n",
    "\n",
    "        while q:\n",
    "            u = q.popleft()\n",
    "            result.append(u)\n",
    "            for v in course_map[u]:\n",
    "                depth[v] -= 1\n",
    "                if depth[v] == 0:\n",
    "                    q.append(v)\n",
    "\n",
    "        if len(result) != numCourses:\n",
    "            result = list()\n",
    "        return result"
   ]
  }
 ],
 "metadata": {
  "kernelspec": {
   "display_name": "Python 3 (ipykernel)",
   "language": "python",
   "name": "python3"
  },
  "language_info": {
   "codemirror_mode": {
    "name": "ipython",
    "version": 3
   },
   "file_extension": ".py",
   "mimetype": "text/x-python",
   "name": "python",
   "nbconvert_exporter": "python",
   "pygments_lexer": "ipython3",
   "version": "3.9.7"
  },
  "vscode": {
   "interpreter": {
    "hash": "39f5abcd422d605275ded4899c318d6924633141c4df25463611bc89b07d5dc8"
   }
  }
 },
 "nbformat": 4,
 "nbformat_minor": 4
}
