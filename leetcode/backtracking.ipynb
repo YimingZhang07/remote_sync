{
 "cells": [
  {
   "cell_type": "markdown",
   "metadata": {},
   "source": [
    "# Backtracking"
   ]
  },
  {
   "cell_type": "markdown",
   "metadata": {},
   "source": [
    "## 46. Permutations"
   ]
  },
  {
   "cell_type": "markdown",
   "metadata": {},
   "source": [
    "This solution works, but a better solution is presented in the next question (47.Permutations2), which utilizs a `visited` array track the usage.\n",
    "\n",
    "https://leetcode.cn/problems/permutations/solution/quan-pai-lie-by-leetcode-solution-2/"
   ]
  },
  {
   "cell_type": "code",
   "execution_count": 12,
   "metadata": {},
   "outputs": [],
   "source": [
    "class Solution:\n",
    "    def permute(self, nums: list[int]) -> list[list[int]]:\n",
    "        n = len(nums)\n",
    "        ans = list()\n",
    "        def backtrace(head):\n",
    "            if head == n:\n",
    "                ans.append(nums[:])\n",
    "                # print(\"Appending {0}\".format(nums[:]))\n",
    "            else:\n",
    "                for i in range(head, n):\n",
    "                    # print(\"Switching {0}, {1}\".format(nums[head], nums[i]))\n",
    "                    nums[i], nums[head] = nums[head], nums[i]\n",
    "                    # print(\"After switching {0}\".format(nums[:]))\n",
    "                    backtrace(head + 1)\n",
    "                    nums[head], nums[i] = nums[i], nums[head]\n",
    "                    # print(\"---------------\")\n",
    "        backtrace(head=0)\n",
    "        return ans"
   ]
  },
  {
   "cell_type": "markdown",
   "metadata": {},
   "source": [
    "## 47. Permutations II"
   ]
  },
  {
   "cell_type": "markdown",
   "metadata": {},
   "source": [
    "Refer to the following solution which generalizes the steps of backtrace algo.\n",
    "\n",
    "https://leetcode.cn/problems/permutations-ii/solution/hot-100-47quan-pai-lie-ii-python3-hui-su-kao-lu-zh/\n",
    "\n",
    "1. stopping criteria / valid result: `len(sol) == n`\n",
    "2. backtrace search: use a `visited` list to tract if we have considered this element in this branch. The goal is to visit every item in the list, so that we have one outcome in permutations. If we are done with this brunch, do not forget to reset the `visited` as other branches are independent from this.\n",
    "3. pruning: in this problem, we want to avoid repeatations. The best practice is to `sort()` and add another criteria, if numbers of the same value have been visited in this branch, then we ignore the current loop."
   ]
  },
  {
   "cell_type": "code",
   "execution_count": 9,
   "metadata": {},
   "outputs": [],
   "source": [
    "class Solution:\n",
    "    def permute(self, nums: list[int]) -> list[list[int]]:\n",
    "        \n",
    "        def backtrace(sol, nums, visited):\n",
    "            if len(sol) == n:\n",
    "                ans.append(sol)\n",
    "\n",
    "            for i in range(n):\n",
    "                if visited[i] == 1:\n",
    "                    continue\n",
    "                visited[i] = 1\n",
    "                backtrace(sol + [nums[i]], nums, visited)\n",
    "                visited[i] = 0\n",
    "                \n",
    "        ans = list()\n",
    "        n = len(nums)\n",
    "        visited = [0 for _ in range(n)]\n",
    "        backtrace([], nums, visited)\n",
    "        return ans"
   ]
  },
  {
   "cell_type": "code",
   "execution_count": 15,
   "metadata": {},
   "outputs": [],
   "source": [
    "class Solution:\n",
    "    def permuteUnique(self, nums: list[int]) -> list[list[int]]:\n",
    "        \n",
    "        def backtrace(sol, nums, visited):\n",
    "            if len(sol) == n:\n",
    "                ans.append(sol)\n",
    "\n",
    "            for i in range(n):\n",
    "                if visited[i] == 1:\n",
    "                    continue\n",
    "                if i > 0 and nums[i] == nums[i-1] and visited[i-1] == 1:\n",
    "                    continue\n",
    "                visited[i] = 1\n",
    "                backtrace(sol + [nums[i]], nums, visited)\n",
    "                visited[i] = 0\n",
    "                \n",
    "        ans = list()\n",
    "        nums.sort()\n",
    "        n = len(nums)\n",
    "        visited = [0 for _ in range(n)]\n",
    "        backtrace([], nums, visited)\n",
    "        return ans"
   ]
  },
  {
   "cell_type": "markdown",
   "metadata": {},
   "source": [
    "## 78. Subsets"
   ]
  },
  {
   "cell_type": "markdown",
   "metadata": {},
   "source": [
    "This is actually a recursion problem, that is when `i == n` then no more `for` loop is entered, so no more `helper` function is called."
   ]
  },
  {
   "cell_type": "code",
   "execution_count": 27,
   "metadata": {},
   "outputs": [],
   "source": [
    "class Solution:\n",
    "    def subsets(self, nums: list[int]) -> list[list[int]]:\n",
    "        res = []\n",
    "        n = len(nums)\n",
    "        \n",
    "        def helper(i, tmp):\n",
    "            res.append(tmp)\n",
    "            for j in range(i, n):\n",
    "                helper(j + 1,tmp + [nums[j]] )\n",
    "        helper(0, [])\n",
    "        return res"
   ]
  },
  {
   "cell_type": "markdown",
   "metadata": {},
   "source": [
    "**Solution updates on 22/8/14**:\n",
    "\n",
    "Each backtrack is split into two branches, add the current number to the sequence / omit the current number, this will offer us all the combinations possible, but more than we need (repetitious) because we append the results at the beginning regardlessly. Then that's why we add a `if sol not in res:` as a condition.\n",
    "\n",
    "A better solution is to optimally call the function, see the second solution."
   ]
  },
  {
   "cell_type": "code",
   "execution_count": 42,
   "metadata": {},
   "outputs": [],
   "source": [
    "class Solution:\n",
    "    def subsets(self, nums: list[int]) -> list[list[int]]:\n",
    "        \n",
    "        n = len(nums)\n",
    "        res = list()\n",
    "        \n",
    "        def backtrack(sol, res, idx):\n",
    "            if sol not in res:\n",
    "                res.append(sol)\n",
    "            if idx >= n:\n",
    "                return\n",
    "\n",
    "            backtrack(sol, res, idx+1)\n",
    "            backtrack(sol + [nums[idx]], res, idx+1)\n",
    "        \n",
    "        backtrack([],res, 0)\n",
    "        return res"
   ]
  },
  {
   "cell_type": "code",
   "execution_count": 43,
   "metadata": {},
   "outputs": [],
   "source": [
    "class Solution:\n",
    "    def subsets(self, nums: list[int]) -> list[list[int]]:\n",
    "        \n",
    "        n = len(nums)\n",
    "        res = list()\n",
    "        \n",
    "        def backtrack(sol, res, idx):\n",
    "            res.append(sol)\n",
    "            if idx >= n:\n",
    "                return\n",
    "\n",
    "            # backtrack(sol, res, idx+1)\n",
    "            for j in range(idx, n):\n",
    "                backtrack(sol + [nums[j]], res, j+1)\n",
    "        \n",
    "        backtrack([],res, 0)\n",
    "        return res"
   ]
  },
  {
   "cell_type": "code",
   "execution_count": 44,
   "metadata": {},
   "outputs": [
    {
     "data": {
      "text/plain": [
       "[[], [1], [1, 2], [1, 2, 3], [1, 3], [2], [2, 3], [3]]"
      ]
     },
     "execution_count": 44,
     "metadata": {},
     "output_type": "execute_result"
    }
   ],
   "source": [
    "Solution().subsets(nums = [1,2,3])"
   ]
  },
  {
   "cell_type": "markdown",
   "metadata": {},
   "source": [
    "## 17. Letter Combinations of a Phone Number"
   ]
  },
  {
   "cell_type": "markdown",
   "metadata": {},
   "source": [
    "**Problem:** Given a string containing digits from 2-9 inclusive, return all possible letter combinations that the number could represent. Return the answer in any order.\n",
    "\n",
    "**Solution:** This is relatively straightforward. The pruning is just any combination that has reached the length. For each number that enters into the backtrace, use a `for` loop to iterate all possible letters."
   ]
  },
  {
   "cell_type": "code",
   "execution_count": 2,
   "metadata": {},
   "outputs": [],
   "source": [
    "class Solution:\n",
    "    def letterCombinations(self, digits: str) -> list[str]:\n",
    "        if digits == \"\":\n",
    "            return []\n",
    "        number = {\n",
    "            '2': 'abc',\n",
    "            '3': 'def',\n",
    "            '4': 'ghi',\n",
    "            '5': 'jkl',\n",
    "            '6': 'mno',\n",
    "            '7': 'pqrs',\n",
    "            '8': 'tuv',\n",
    "            '9': 'wxyz'\n",
    "        }\n",
    "        \n",
    "        def backtrace(res, comb, idx):\n",
    "            if idx == n:\n",
    "                res.append(\"\".join(comb))\n",
    "            else:\n",
    "                d = digits[idx]\n",
    "                for letter in number[d]:\n",
    "                    comb.append(letter)\n",
    "                    backtrace(res, comb, idx + 1)\n",
    "                    comb.pop()\n",
    "        \n",
    "        n = len(digits)\n",
    "        res = []\n",
    "        backtrace(res, [], 0)\n",
    "        return res"
   ]
  },
  {
   "cell_type": "markdown",
   "metadata": {},
   "source": [
    "## 22. Generate Parentheses"
   ]
  },
  {
   "cell_type": "markdown",
   "metadata": {},
   "source": [
    "This is much like a permutation problem (we have n left and n right), except that all the right parentheses have to show up after the left parentheses. The code below is self-explainary."
   ]
  },
  {
   "cell_type": "code",
   "execution_count": 3,
   "metadata": {},
   "outputs": [],
   "source": [
    "class Solution:\n",
    "    def generateParenthesis(self, n: int) -> list[str]:\n",
    "        def backtrace(left, right, comb):\n",
    "            if left == n and right == n:\n",
    "                res.append(\"\".join(comb))\n",
    "            if left < n:\n",
    "                comb.append(\"(\")\n",
    "                backtrace(left+1, right, comb)\n",
    "                comb.pop()\n",
    "            if right < left:\n",
    "                comb.append(\")\")\n",
    "                backtrace(left, right+1, comb)\n",
    "                comb.pop()\n",
    "                \n",
    "        res = []\n",
    "        backtrace(0, 0, [])\n",
    "        return res"
   ]
  },
  {
   "cell_type": "markdown",
   "metadata": {},
   "source": [
    "## 39. Combination Sum"
   ]
  },
  {
   "cell_type": "markdown",
   "metadata": {},
   "source": [
    "**Problem:** https://leetcode.cn/problems/combination-sum/\n",
    "\n",
    "**Solution:** When we do the backtrace here, at each node, we have two options to grow the tree. One is to consider candidates excluding the current value, another is to include the current value (since we are allowed to repeat values more than once). Therefore, there are two backtrace functions called.\n",
    "\n",
    "For the trimming condition, if the target has exploded, or if candidates are nothing left, then the recursion is done. Or else, the target is met and appended to the results.\n",
    "\n",
    "Be carefull here, if we append the value directly on `comb` and forward it to the next function, it is forwarded by reference, so the values are modified. Using the addition of the lists, a new list can be created to be the parameter."
   ]
  },
  {
   "cell_type": "code",
   "execution_count": 47,
   "metadata": {},
   "outputs": [],
   "source": [
    "class Solution:\n",
    "    def combinationSum(self, candidates: list[int], target: int) -> list[list[int]]:\n",
    "        def backtrace(res, comb, idx, target):\n",
    "            if target < 0:\n",
    "                return\n",
    "            if target == 0:\n",
    "                res.append(comb)\n",
    "                return\n",
    "            if idx == n:\n",
    "                return\n",
    "            \n",
    "            backtrace(res, comb, idx + 1, target)\n",
    "            backtrace(res, comb + [candidates[idx]], idx, target - candidates[idx])\n",
    "            \n",
    "        res = []\n",
    "        n = len(candidates)\n",
    "        backtrace(res, [], 0, target)\n",
    "        return res"
   ]
  },
  {
   "cell_type": "code",
   "execution_count": 48,
   "metadata": {},
   "outputs": [
    {
     "data": {
      "text/plain": [
       "[[7], [2, 2, 3]]"
      ]
     },
     "execution_count": 48,
     "metadata": {},
     "output_type": "execute_result"
    }
   ],
   "source": [
    "Solution().combinationSum(candidates = [2,3,6,7], target = 7)"
   ]
  },
  {
   "cell_type": "markdown",
   "metadata": {},
   "source": [
    "## 780. Reaching Points"
   ]
  },
  {
   "cell_type": "markdown",
   "metadata": {},
   "source": [
    "Ongoing, please see the solution here: https://leetcode.cn/problems/reaching-points/solution/by-jam007-eqza/"
   ]
  },
  {
   "cell_type": "code",
   "execution_count": 7,
   "metadata": {},
   "outputs": [],
   "source": [
    "from functools import lru_cache\n",
    "class Solution:\n",
    "    def reachingPoints(self, sx: int, sy: int, tx: int, ty: int) -> bool:\n",
    "        bools = []\n",
    "        @lru_cache\n",
    "        def backtrack(x, y):\n",
    "            if x == sx and y == sy:\n",
    "                bools.append(True)\n",
    "                return\n",
    "            if x == tx and (ty-y) % x == 0:\n",
    "                bools.append(True)\n",
    "                return\n",
    "            if y == ty and (tx-x) % y == 0:\n",
    "                bools.append(True)\n",
    "                return\n",
    "            if x < sx or y < sy:\n",
    "                bools.append(False)\n",
    "                return\n",
    "            backtrack(x-y, y)\n",
    "            backtrack(x, y-x)\n",
    "            return\n",
    "\n",
    "        backtrack(tx, ty)\n",
    "\n",
    "        return max(bools)"
   ]
  },
  {
   "cell_type": "code",
   "execution_count": 8,
   "metadata": {},
   "outputs": [
    {
     "data": {
      "text/plain": [
       "True"
      ]
     },
     "execution_count": 8,
     "metadata": {},
     "output_type": "execute_result"
    }
   ],
   "source": [
    "Solution().reachingPoints(sx = 1, sy = 1, tx = 2, ty = 2)"
   ]
  }
 ],
 "metadata": {
  "kernelspec": {
   "display_name": "Python 3.9.7 ('base')",
   "language": "python",
   "name": "python3"
  },
  "language_info": {
   "codemirror_mode": {
    "name": "ipython",
    "version": 3
   },
   "file_extension": ".py",
   "mimetype": "text/x-python",
   "name": "python",
   "nbconvert_exporter": "python",
   "pygments_lexer": "ipython3",
   "version": "3.9.7"
  },
  "vscode": {
   "interpreter": {
    "hash": "39f5abcd422d605275ded4899c318d6924633141c4df25463611bc89b07d5dc8"
   }
  }
 },
 "nbformat": 4,
 "nbformat_minor": 4
}
