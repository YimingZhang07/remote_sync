{
 "cells": [
  {
   "cell_type": "code",
   "execution_count": 76,
   "id": "fc8f0666-fdf4-4643-8de6-182beb5b8ebe",
   "metadata": {},
   "outputs": [],
   "source": [
    "import nbformat\n",
    "import pandas as pd\n",
    "import re\n",
    "import os"
   ]
  },
  {
   "cell_type": "code",
   "execution_count": 69,
   "id": "4928abab-c672-4d14-93fe-fb28c789a8e5",
   "metadata": {},
   "outputs": [],
   "source": [
    "def readSingleIpynb(nbText):\n",
    "    df = pd.DataFrame()\n",
    "    section = \"Missing\"\n",
    "    for cell in nbText['worksheets'][0]['cells']:\n",
    "        if cell['cell_type'] == 'heading' and cell['level'] == 1:\n",
    "            section = cell['source']\n",
    "        if cell['cell_type'] == 'heading' and cell['level'] == 2:\n",
    "            results = re.search(r\"([0-9]*)\\.\\s([0-9A-Za-z\\s]*)\", cell['source'])\n",
    "            if results is not None:\n",
    "                record = {\"number\": results.groups()[0], \"name\": results.groups()[1], \"section\":section}\n",
    "            else:\n",
    "                record = {\"number\": -1, \"name\": cell['source'], \"section\": section}\n",
    "            df = df.append(record, ignore_index=True)\n",
    "    return df"
   ]
  },
  {
   "cell_type": "code",
   "execution_count": 71,
   "id": "995843a2-7ad8-4bd5-a762-dcb3e3b0cdcb",
   "metadata": {},
   "outputs": [],
   "source": [
    "def readFolderIpynb():\n",
    "    df = pd.DataFrame()\n",
    "    for file in os.listdir(\"./leetcode\"):\n",
    "        if file.endswith('ipynb'):\n",
    "            nb = nbformat.read(file, as_version=3)\n",
    "            tmp = readSingleIpynb(nb)\n",
    "            df = pd.concat([df, tmp], axis=0, ignore_index=True)\n",
    "\n",
    "    df.number = df.number.astype('int32', errors='ignore')\n",
    "    df = df.sort_values(by=\"section\").reset_index(drop=True)"
   ]
  },
  {
   "cell_type": "code",
   "execution_count": 79,
   "id": "90490888-99f3-443f-978d-20438f629dc5",
   "metadata": {},
   "outputs": [
    {
     "data": {
      "text/plain": [
       "['.ipynb_checkpoints',\n",
       " 'backtracking.ipynb',\n",
       " 'dfs_bfs.ipynb',\n",
       " 'double_pointers.ipynb',\n",
       " 'dynamic_programming.ipynb',\n",
       " 'hash_table.ipynb',\n",
       " 'misc.ipynb',\n",
       " 'monotonic_stack.ipynb']"
      ]
     },
     "execution_count": 79,
     "metadata": {},
     "output_type": "execute_result"
    }
   ],
   "source": [
    "os.listdir(\"../leetcode\")"
   ]
  }
 ],
 "metadata": {
  "kernelspec": {
   "display_name": "Python 3 (ipykernel)",
   "language": "python",
   "name": "python3"
  },
  "language_info": {
   "codemirror_mode": {
    "name": "ipython",
    "version": 3
   },
   "file_extension": ".py",
   "mimetype": "text/x-python",
   "name": "python",
   "nbconvert_exporter": "python",
   "pygments_lexer": "ipython3",
   "version": "3.9.7"
  }
 },
 "nbformat": 4,
 "nbformat_minor": 5
}
