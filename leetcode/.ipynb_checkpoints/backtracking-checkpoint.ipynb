{
 "cells": [
  {
   "cell_type": "markdown",
   "metadata": {},
   "source": [
    "# Backtracking"
   ]
  },
  {
   "cell_type": "markdown",
   "metadata": {},
   "source": [
    "## 46. Permutations"
   ]
  },
  {
   "cell_type": "markdown",
   "metadata": {},
   "source": [
    "This is better illustrated by a graph. Please view the solution here.\n",
    "\n",
    "https://leetcode.cn/problems/permutations/solution/quan-pai-lie-by-leetcode-solution-2/"
   ]
  },
  {
   "cell_type": "code",
   "execution_count": 12,
   "metadata": {},
   "outputs": [],
   "source": [
    "class Solution:\n",
    "    def permute(self, nums: list[int]) -> list[list[int]]:\n",
    "        n = len(nums)\n",
    "        ans = list()\n",
    "        def backtrace(head):\n",
    "            if head == n:\n",
    "                ans.append(nums[:])\n",
    "                # print(\"Appending {0}\".format(nums[:]))\n",
    "            else:\n",
    "                for i in range(head, n):\n",
    "                    # print(\"Switching {0}, {1}\".format(nums[head], nums[i]))\n",
    "                    nums[i], nums[head] = nums[head], nums[i]\n",
    "                    # print(\"After switching {0}\".format(nums[:]))\n",
    "                    backtrace(head + 1)\n",
    "                    nums[head], nums[i] = nums[i], nums[head]\n",
    "                    # print(\"---------------\")\n",
    "        backtrace(head=0)\n",
    "        return ans"
   ]
  },
  {
   "cell_type": "markdown",
   "metadata": {},
   "source": [
    "## 47. Permutations II"
   ]
  },
  {
   "cell_type": "markdown",
   "metadata": {},
   "source": [
    "Refer to the following solution which generalizes the steps of backtrace algo.\n",
    "\n",
    "https://leetcode.cn/problems/permutations-ii/solution/hot-100-47quan-pai-lie-ii-python3-hui-su-kao-lu-zh/\n",
    "\n",
    "1. stopping criteria / valid result: `len(sol) == n`\n",
    "2. backtrace search: use a `visited` list to tract if we have considered this element in this branch. The goal is to visit every item in the list, so that we have one outcome in permutations. If we are done with this brunch, do not forget to reset the `visited` as other branches are independent from this.\n",
    "3. pruning: in this problem, we want to avoid repeatations. The best practice is to `sort()` and add another criteria, if numbers of the same value have been visited in this branch, then we ignore the current loop."
   ]
  },
  {
   "cell_type": "code",
   "execution_count": 9,
   "metadata": {},
   "outputs": [],
   "source": [
    "class Solution:\n",
    "    def permute(self, nums: list[int]) -> list[list[int]]:\n",
    "        \n",
    "        def backtrace(sol, nums, visited):\n",
    "            if len(sol) == n:\n",
    "                ans.append(sol)\n",
    "\n",
    "            for i in range(n):\n",
    "                if visited[i] == 1:\n",
    "                    continue\n",
    "                visited[i] = 1\n",
    "                backtrace(sol + [nums[i]], nums, visited)\n",
    "                visited[i] = 0\n",
    "                \n",
    "        ans = list()\n",
    "        n = len(nums)\n",
    "        visited = [0 for _ in range(n)]\n",
    "        backtrace([], nums, visited)\n",
    "        return ans"
   ]
  },
  {
   "cell_type": "code",
   "execution_count": 15,
   "metadata": {},
   "outputs": [],
   "source": [
    "class Solution:\n",
    "    def permuteUnique(self, nums: list[int]) -> list[list[int]]:\n",
    "        \n",
    "        def backtrace(sol, nums, visited):\n",
    "            if len(sol) == n:\n",
    "                ans.append(sol)\n",
    "\n",
    "            for i in range(n):\n",
    "                if visited[i] == 1:\n",
    "                    continue\n",
    "                if i > 0 and nums[i] == nums[i-1] and visited[i-1] == 1:\n",
    "                    continue\n",
    "                visited[i] = 1\n",
    "                backtrace(sol + [nums[i]], nums, visited)\n",
    "                visited[i] = 0\n",
    "                \n",
    "        ans = list()\n",
    "        nums.sort()\n",
    "        n = len(nums)\n",
    "        visited = [0 for _ in range(n)]\n",
    "        backtrace([], nums, visited)\n",
    "        return ans"
   ]
  },
  {
   "cell_type": "code",
   "execution_count": 16,
   "metadata": {},
   "outputs": [
    {
     "data": {
      "text/plain": [
       "[[1, 1, 3], [1, 3, 1], [3, 1, 1]]"
      ]
     },
     "execution_count": 16,
     "metadata": {},
     "output_type": "execute_result"
    }
   ],
   "source": [
    "Solution().permuteUnique([1,1,3])"
   ]
  },
  {
   "cell_type": "markdown",
   "metadata": {},
   "source": [
    "## 78. Subsets"
   ]
  },
  {
   "cell_type": "markdown",
   "metadata": {},
   "source": [
    "This is actually a recursion problem, that is when `i == n` then no more `for` loop is entered, so no more `helper` function is called."
   ]
  },
  {
   "cell_type": "code",
   "execution_count": 27,
   "metadata": {},
   "outputs": [],
   "source": [
    "class Solution:\n",
    "    def subsets(self, nums: list[int]) -> list[list[int]]:\n",
    "        res = []\n",
    "        n = len(nums)\n",
    "        \n",
    "        def helper(i, tmp):\n",
    "            res.append(tmp)\n",
    "            for j in range(i, n):\n",
    "                helper(j + 1,tmp + [nums[j]] )\n",
    "        helper(0, [])\n",
    "        return res"
   ]
  },
  {
   "cell_type": "code",
   "execution_count": 28,
   "metadata": {},
   "outputs": [
    {
     "data": {
      "text/plain": [
       "[[], [1], [1, 2], [1, 2, 3], [1, 3], [2], [2, 3], [3]]"
      ]
     },
     "execution_count": 28,
     "metadata": {},
     "output_type": "execute_result"
    }
   ],
   "source": [
    "Solution().subsets([1,2,3])"
   ]
  }
 ],
 "metadata": {
  "kernelspec": {
   "display_name": "Python 3.9.7 ('base')",
   "language": "python",
   "name": "python3"
  },
  "language_info": {
   "codemirror_mode": {
    "name": "ipython",
    "version": 3
   },
   "file_extension": ".py",
   "mimetype": "text/x-python",
   "name": "python",
   "nbconvert_exporter": "python",
   "pygments_lexer": "ipython3",
   "version": "3.9.7"
  },
  "orig_nbformat": 4,
  "vscode": {
   "interpreter": {
    "hash": "39f5abcd422d605275ded4899c318d6924633141c4df25463611bc89b07d5dc8"
   }
  }
 },
 "nbformat": 4,
 "nbformat_minor": 2
}
