{
 "cells": [
  {
   "cell_type": "markdown",
   "id": "9a33b3d1-756c-419c-a970-f3c57eefb2ce",
   "metadata": {},
   "source": [
    "# Dynamic Programming"
   ]
  },
  {
   "cell_type": "markdown",
   "id": "3ac17b1c-1d66-4110-9872-670d9e5f847a",
   "metadata": {},
   "source": [
    "## 5. Longest Palindromic Substring"
   ]
  },
  {
   "cell_type": "markdown",
   "id": "a67ea947-6297-4781-8ddd-ba93e82ea406",
   "metadata": {},
   "source": [
    "Consider a matrix `dp` where `dp[i][j]` denotes a bool value of whether substring `s[i:j]` is valid parlindromic or not. And obviously, if `i == j` then the string is valid. So we need to fill in 0s on the diagnal.\n",
    "\n",
    "We need two global variables to tracka the longest substring we have found, using `_being` and `max_len`.\n",
    "\n",
    "We apply a **sliding window** idea here. The length of the parlindromic substring can range from 2 `'bb'` for example, to the whole string like `'ababa'`. For each window, we start from the leftmost and roll to the right.\n",
    "\n",
    "While sliding the window, we only compare if the `s[i] == s[j]`, the two end points and,\n",
    "- if this is a length-2 window, then this is a valid substring.\n",
    "- if this is a longer one, then the string is valid only if the narrower substring `s[i+1, j-1]` is also valid. (`'ababa'`) is valid only if (`'bab'`) inside is valid also.\n",
    "\n",
    "After each step, see if the current valid substring has global `max_len`, if so, track the left index and the length of this substring."
   ]
  },
  {
   "cell_type": "code",
   "execution_count": 86,
   "id": "b1558500-5743-4659-917b-120a16bc5e67",
   "metadata": {},
   "outputs": [],
   "source": [
    "class Solution:\n",
    "    def longestPalindrome(self, s: str) -> str:\n",
    "        from pprint import pprint\n",
    "        n = len(s)\n",
    "        dp = [[0] * n for _ in range(n)]\n",
    "        \n",
    "        # the diagonal entries are always 1 \n",
    "        for i in range(n): dp[i][i] = 1\n",
    "        \n",
    "        # global variable to track the longest substring we have found\n",
    "        _begin = 0\n",
    "        max_len = 1\n",
    "        \n",
    "        for _len in range(2, n + 1):\n",
    "            for l in range(n):\n",
    "                r = l + _len - 1\n",
    "                # the right cannot exceed the length\n",
    "                if r > n-1:\n",
    "                    break\n",
    "                    \n",
    "                if s[l] != s[r]:\n",
    "                    dp[l][r] = 0\n",
    "                else:\n",
    "                    if _len == 2:\n",
    "                        dp[l][r] = 1\n",
    "                    else:\n",
    "                        dp[l][r] = dp[l + 1][r - 1]\n",
    "                        \n",
    "                if dp[l][r] == 1 and r - l + 1 > max_len:\n",
    "                    max_len = r - l + 1\n",
    "                    _begin = l\n",
    "                    \n",
    "                # pprint(\"Checking : {0} and {1}\".format(l+1,r+1))\n",
    "                # pprint(dp)\n",
    "                # print(\"---------\")\n",
    "        return s[_begin:_begin + max_len]"
   ]
  },
  {
   "cell_type": "markdown",
   "id": "2e071f18-212c-4a49-8cec-ddfd53003295",
   "metadata": {},
   "source": [
    "## 5. Longest Palindromic Substring"
   ]
  },
  {
   "cell_type": "markdown",
   "id": "6577656b-4b62-4866-87fa-b76744f7f363",
   "metadata": {},
   "source": [
    "https://leetcode.com/problems/longest-common-subsequence/"
   ]
  },
  {
   "cell_type": "code",
   "execution_count": 9,
   "id": "bb208d90-f6c1-4513-926d-6c4baf6bd96a",
   "metadata": {},
   "outputs": [],
   "source": [
    "from pprint import pprint"
   ]
  },
  {
   "cell_type": "code",
   "execution_count": 21,
   "id": "4ca702ad-141f-4c04-9f79-937817074556",
   "metadata": {},
   "outputs": [],
   "source": [
    "class Solution:\n",
    "    def longestCommonSubsequence(self, text1: str, text2: str) -> int:\n",
    "        n_row = len(text1)\n",
    "        n_col = len(text2)\n",
    "        # create the dp matrix and padding the first col and row to be 0\n",
    "        dp = [[0] * (n_col+1) for _ in range(n_row+1)]\n",
    "        \n",
    "        for i in range(1, n_row+1):\n",
    "            for j in range(1, n_col+1):\n",
    "                if text1[i-1] == text2[j-1]:\n",
    "                    dp[i][j] = dp[i-1][j-1] + 1\n",
    "                else:\n",
    "                    dp[i][j] = max(dp[i-1][j], dp[i][j-1])\n",
    "        return dp[-1][-1]"
   ]
  },
  {
   "cell_type": "markdown",
   "id": "e2e324e8-4780-4a55-ae6c-44bc32d0410d",
   "metadata": {},
   "source": [
    "## 64. Minimum Path Sum"
   ]
  },
  {
   "cell_type": "code",
   "execution_count": 5,
   "id": "8cb05bf3-7c72-4be7-ac20-d867656d3aef",
   "metadata": {},
   "outputs": [],
   "source": [
    "class Solution:\n",
    "    def minPathSum(self, grid: list[list[int]]) -> int:\n",
    "        n_row = len(grid)\n",
    "        n_col = len(grid[0])\n",
    "        \n",
    "        # build the matrix for dp\n",
    "        dpm = [[0] * n_col for _ in range(n_row)]\n",
    "        dpm[0][0] = grid[0][0]\n",
    "        \n",
    "        # fill in the first column\n",
    "        for i in range(1, n_row):\n",
    "            dpm[i][0] = dpm[i-1][0] + grid[i][0]\n",
    "        \n",
    "        for j in range(1, n_col):\n",
    "            dpm[0][j] = dpm[0][j-1] + grid[0][j]\n",
    "            \n",
    "        for j in range(1, n_col):\n",
    "            for i in range(1, n_row):\n",
    "                dpm[i][j] = min(dpm[i-1][j] + grid[i][j], dpm[i][j-1] + grid[i][j])\n",
    "        \n",
    "        return dpm[-1][-1]"
   ]
  }
 ],
 "metadata": {
  "kernelspec": {
   "display_name": "Python 3 (ipykernel)",
   "language": "python",
   "name": "python3"
  },
  "language_info": {
   "codemirror_mode": {
    "name": "ipython",
    "version": 3
   },
   "file_extension": ".py",
   "mimetype": "text/x-python",
   "name": "python",
   "nbconvert_exporter": "python",
   "pygments_lexer": "ipython3",
   "version": "3.9.7"
  }
 },
 "nbformat": 4,
 "nbformat_minor": 5
}
