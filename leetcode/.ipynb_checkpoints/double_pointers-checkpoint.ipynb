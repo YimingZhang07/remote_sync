{
 "cells": [
  {
   "cell_type": "markdown",
   "id": "471b2630-53ef-4037-8b5f-d43c652e1833",
   "metadata": {},
   "source": [
    "# Double Pointers"
   ]
  },
  {
   "cell_type": "markdown",
   "id": "5f0f959c-828e-4610-824c-383e4cfa85d1",
   "metadata": {},
   "source": [
    "## 15. 3Sum"
   ]
  },
  {
   "cell_type": "markdown",
   "id": "a3c6a0bf-9878-45cc-8eb4-3130793cdcf4",
   "metadata": {},
   "source": [
    "This problem can be solved by sorting and double pointers.\n",
    "\n",
    "1. To make the sum 0, the first number must have `nums[i] <= 0`.\n",
    "2. To avoid repeatation if we have considered the same value.\n",
    "3. Start two pointers from left and right of the remaining string, check the current sum, and skip the steps if the same value have been considered for the sum of zero. Note that the pointers are moving towards the middle together, and each time we adjust one pointer by the direction of the current sum. By default, only one of them is able to move by each step, unless they meet same values, or they meet the sum, then we can move multiple steps at the same time.\n"
   ]
  },
  {
   "cell_type": "code",
   "execution_count": 25,
   "id": "915b4aeb",
   "metadata": {},
   "outputs": [],
   "source": [
    "class Solution:\n",
    "    def threeSum(self, nums: list[int]) -> list[list[int]]:\n",
    "        nums.sort()\n",
    "        n = len(nums)\n",
    "        res = list()\n",
    "        for i in range(n - 2):\n",
    "            # deal with impossible values and repeated values\n",
    "            if nums[i] > 0: break\n",
    "            if i > 0 and nums[i-1] == nums[i]: continue\n",
    "            \n",
    "            left = i + 1\n",
    "            right = n - 1\n",
    "            while left < right:\n",
    "                cur_sum = nums[i] + nums[left] + nums[right]\n",
    "                \n",
    "                if cur_sum == 0:\n",
    "                    res.append([nums[i], nums[left], nums[right]])\n",
    "                    \n",
    "                    while left < right and nums[left] == nums[left + 1]:\n",
    "                        left+=1\n",
    "\n",
    "                    while left < right and nums[right] == nums[right - 1]:\n",
    "                        right-=1\n",
    "                    \n",
    "                    left+=1\n",
    "                    right-=1\n",
    "                    \n",
    "                elif cur_sum > 0:\n",
    "                    right-=1\n",
    "                    \n",
    "                else:\n",
    "                    left+=1\n",
    "        return res"
   ]
  }
 ],
 "metadata": {
  "kernelspec": {
   "display_name": "Python 3 (ipykernel)",
   "language": "python",
   "name": "python3"
  },
  "language_info": {
   "codemirror_mode": {
    "name": "ipython",
    "version": 3
   },
   "file_extension": ".py",
   "mimetype": "text/x-python",
   "name": "python",
   "nbconvert_exporter": "python",
   "pygments_lexer": "ipython3",
   "version": "3.9.7"
  },
  "toc-autonumbering": false,
  "toc-showtags": false,
  "vscode": {
   "interpreter": {
    "hash": "39f5abcd422d605275ded4899c318d6924633141c4df25463611bc89b07d5dc8"
   }
  }
 },
 "nbformat": 4,
 "nbformat_minor": 5
}
