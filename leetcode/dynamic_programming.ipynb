{
 "cells": [
  {
   "cell_type": "markdown",
   "id": "9a33b3d1-756c-419c-a970-f3c57eefb2ce",
   "metadata": {},
   "source": [
    "# Dynamic Programming"
   ]
  },
  {
   "cell_type": "markdown",
   "id": "3ac17b1c-1d66-4110-9872-670d9e5f847a",
   "metadata": {},
   "source": [
    "## 5. Longest Palindromic Substring"
   ]
  },
  {
   "cell_type": "markdown",
   "id": "a67ea947-6297-4781-8ddd-ba93e82ea406",
   "metadata": {},
   "source": [
    "Consider a matrix `dp` where `dp[i][j]` denotes a bool value of whether substring `s[i:j]` is valid parlindromic or not. And obviously, if `i == j` then the string is valid. So we need to fill in 0s on the diagnal.\n",
    "\n",
    "We need two global variables to tracka the longest substring we have found, using `_being` and `max_len`.\n",
    "\n",
    "We apply a **sliding window** idea here. The length of the parlindromic substring can range from 2 `'bb'` for example, to the whole string like `'ababa'`. For each window, we start from the leftmost and roll to the right.\n",
    "\n",
    "While sliding the window, we only compare if the `s[i] == s[j]`, the two end points and,\n",
    "\n",
    "- if this is a length-2 window, then this is a valid substring.\n",
    "- if this is a longer one, then the string is valid only if the narrower substring `s[i+1, j-1]` is also valid. (`'ababa'`) is valid only if (`'bab'`) inside is valid also.\n",
    "\n",
    "After each step, see if the current valid substring has global `max_len`, if so, track the left index and the length of this substring."
   ]
  },
  {
   "cell_type": "code",
   "execution_count": 86,
   "id": "b1558500-5743-4659-917b-120a16bc5e67",
   "metadata": {},
   "outputs": [],
   "source": [
    "class Solution:\n",
    "    def longestPalindrome(self, s: str) -> str:\n",
    "        from pprint import pprint\n",
    "        n = len(s)\n",
    "        dp = [[0] * n for _ in range(n)]\n",
    "        \n",
    "        # the diagonal entries are always 1 \n",
    "        for i in range(n): dp[i][i] = 1\n",
    "        \n",
    "        # global variable to track the longest substring we have found\n",
    "        _begin = 0\n",
    "        max_len = 1\n",
    "        \n",
    "        for _len in range(2, n + 1):\n",
    "            for l in range(n):\n",
    "                r = l + _len - 1\n",
    "                # the right cannot exceed the length\n",
    "                if r > n-1:\n",
    "                    break\n",
    "                    \n",
    "                if s[l] != s[r]:\n",
    "                    dp[l][r] = 0\n",
    "                else:\n",
    "                    if _len == 2:\n",
    "                        dp[l][r] = 1\n",
    "                    else:\n",
    "                        dp[l][r] = dp[l + 1][r - 1]\n",
    "                        \n",
    "                if dp[l][r] == 1 and r - l + 1 > max_len:\n",
    "                    max_len = r - l + 1\n",
    "                    _begin = l\n",
    "                    \n",
    "                # pprint(\"Checking : {0} and {1}\".format(l+1,r+1))\n",
    "                # pprint(dp)\n",
    "                # print(\"---------\")\n",
    "        return s[_begin:_begin + max_len]"
   ]
  },
  {
   "cell_type": "markdown",
   "id": "554f8981",
   "metadata": {},
   "source": [
    "## 647. Palindromic Substrings"
   ]
  },
  {
   "cell_type": "code",
   "execution_count": 12,
   "id": "ebcdabfc",
   "metadata": {},
   "outputs": [],
   "source": [
    "class Solution:\n",
    "    def countSubstrings(self, s: str) -> int:\n",
    "        # from pprint import pprint\n",
    "        \n",
    "        n = len(s)\n",
    "        dp = [[False] * n for _ in range(n)]\n",
    "        # a single char is valid\n",
    "        for i in range(n): dp[i][i] = True\n",
    "        count = 0\n",
    "        \n",
    "        for _len in range(2, n+1):\n",
    "            for left in range(n):\n",
    "                right = left + _len - 1\n",
    "                # boundary condition\n",
    "                if right > n-1:\n",
    "                    break\n",
    "                \n",
    "                if s[left] == s[right]:\n",
    "                    if _len == 2:\n",
    "                        dp[left][right] = True\n",
    "                    else:\n",
    "                        dp[left][right] = dp[left+1][right-1]\n",
    "                else:\n",
    "                    dp[left][right] = False\n",
    "                \n",
    "                if dp[left][right]:\n",
    "                    count+=1\n",
    "        \n",
    "        # pprint(dp)\n",
    "        return count + n"
   ]
  },
  {
   "cell_type": "markdown",
   "id": "2e071f18-212c-4a49-8cec-ddfd53003295",
   "metadata": {},
   "source": [
    "## 1143. Longest Common Subsequence"
   ]
  },
  {
   "cell_type": "markdown",
   "id": "6577656b-4b62-4866-87fa-b76744f7f363",
   "metadata": {},
   "source": [
    "https://leetcode.com/problems/longest-common-subsequence/"
   ]
  },
  {
   "cell_type": "code",
   "execution_count": 21,
   "id": "4ca702ad-141f-4c04-9f79-937817074556",
   "metadata": {},
   "outputs": [],
   "source": [
    "class Solution:\n",
    "    def longestCommonSubsequence(self, text1: str, text2: str) -> int:\n",
    "        n_row = len(text1)\n",
    "        n_col = len(text2)\n",
    "        # create the dp matrix and padding the first col and row to be 0\n",
    "        dp = [[0] * (n_col+1) for _ in range(n_row+1)]\n",
    "        \n",
    "        for i in range(1, n_row+1):\n",
    "            for j in range(1, n_col+1):\n",
    "                if text1[i-1] == text2[j-1]:\n",
    "                    dp[i][j] = dp[i-1][j-1] + 1\n",
    "                else:\n",
    "                    dp[i][j] = max(dp[i-1][j], dp[i][j-1])\n",
    "        return dp[-1][-1]"
   ]
  },
  {
   "cell_type": "markdown",
   "id": "e2e324e8-4780-4a55-ae6c-44bc32d0410d",
   "metadata": {},
   "source": [
    "## 64. Minimum Path Sum"
   ]
  },
  {
   "cell_type": "code",
   "execution_count": 5,
   "id": "8cb05bf3-7c72-4be7-ac20-d867656d3aef",
   "metadata": {},
   "outputs": [],
   "source": [
    "class Solution:\n",
    "    def minPathSum(self, grid: list[list[int]]) -> int:\n",
    "        n_row = len(grid)\n",
    "        n_col = len(grid[0])\n",
    "        \n",
    "        # build the matrix for dp\n",
    "        dpm = [[0] * n_col for _ in range(n_row)]\n",
    "        dpm[0][0] = grid[0][0]\n",
    "        \n",
    "        # fill in the first column\n",
    "        for i in range(1, n_row):\n",
    "            dpm[i][0] = dpm[i-1][0] + grid[i][0]\n",
    "        \n",
    "        for j in range(1, n_col):\n",
    "            dpm[0][j] = dpm[0][j-1] + grid[0][j]\n",
    "            \n",
    "        for j in range(1, n_col):\n",
    "            for i in range(1, n_row):\n",
    "                dpm[i][j] = min(dpm[i-1][j] + grid[i][j], dpm[i][j-1] + grid[i][j])\n",
    "        \n",
    "        return dpm[-1][-1]"
   ]
  },
  {
   "cell_type": "markdown",
   "id": "64d88ad6",
   "metadata": {},
   "source": [
    "## 152. Maximum Product Subarray"
   ]
  },
  {
   "cell_type": "markdown",
   "id": "f7d278c3",
   "metadata": {},
   "source": [
    "Name the list `nums` as `a`, and use a dynamic programming approach.\n",
    "\n",
    "Denote $f_{\\max}(i)$ be the maximum product of any possible subarrays that end with `a[i]`.\n",
    "\n",
    "It is not difficult to get: $f_{\\max }(i)=\\max _{i=1}^{n}\\left\\{f(i-1) \\times a_{i}, a_{i}\\right\\}$. We either keep `a[i]` within the last sequence, or start a new sequence starting from `a[i]`, which depends on which one is larger.\n",
    "\n",
    "**Tricky part**: the above is ok if we are deriving the `sum` instead of the `product`. Why? Because there might be negative values in the middle! Before we meet the second negative value to turn the product positive, we might lose track of the sequence product already.\n",
    "\n",
    "**Solution**: maintain two sequence for memorization. The *max* sequence is waiting for a large positive number, while the *min* sequence is waiting for a large negative number, so we won't lose track of any sequence that has a potential to be the maximum.\n",
    "\n",
    "\\begin{aligned}\n",
    "f_{\\max }(i) &=\\max _{i=1}^{n}\\left\\{f_{\\max }(i-1) \\times a_{i}, f_{\\min }(i-1) \\times a_{i}, a_{i}\\right\\} \\\\\n",
    "f_{\\min }(i) &=\\min _{i=1}\\left\\{f_{\\max }(i-1) \\times a_{i}, f_{\\min }(i-1) \\times a_{i}, a_{i}\\right\\}\n",
    "\\end{aligned}"
   ]
  },
  {
   "cell_type": "code",
   "execution_count": 6,
   "id": "9872ab40",
   "metadata": {},
   "outputs": [],
   "source": [
    "class Solution:\n",
    "    def maxProduct(self, nums: list[int]) -> int:\n",
    "        n = len(nums)\n",
    "        dp_max = [nums[0]] * n\n",
    "        dp_min = [nums[0]] * n\n",
    "        for i in range(1, n):\n",
    "            dp_max[i] = max(dp_max[i-1] * nums[i], dp_min[i-1] * nums[i], nums[i])\n",
    "            dp_min[i] = min(dp_max[i-1] * nums[i], dp_min[i-1] * nums[i], nums[i])\n",
    "        return max(dp_max)\n",
    "        "
   ]
  },
  {
   "cell_type": "markdown",
   "id": "0afb457f",
   "metadata": {},
   "source": [
    "## 198. House Robber"
   ]
  },
  {
   "cell_type": "markdown",
   "id": "dbf95124",
   "metadata": {},
   "source": [
    "The robber has to choose whether to rob the odd subsequence or the even subsequence. Define the sequence `dp` as the maximum amount of money the robber can get after considerting the house `i`. Then it is not difficult to have the transition:\n",
    "\n",
    "$d p[i]=\\max (d p[i-2]+n u m s[i], d p[i-1])$"
   ]
  },
  {
   "cell_type": "code",
   "execution_count": 10,
   "id": "cfd81f23",
   "metadata": {},
   "outputs": [],
   "source": [
    "class Solution:\n",
    "    def rob(self, nums: list[int]) -> int:\n",
    "        n = len(nums)\n",
    "        dp = [0] * n\n",
    "        if n == 0:\n",
    "            return 0\n",
    "        elif n == 1:\n",
    "            return nums[0]\n",
    "        elif n == 2:\n",
    "            return max(nums[0], nums[1])\n",
    "        else:\n",
    "            dp[0] = nums[0]\n",
    "            dp[1] = max(nums[0], nums[1])\n",
    "            for i in range(2, n):\n",
    "                dp[i] = max(dp[i-2] + nums[i], dp[i-1])\n",
    "        return max(dp)"
   ]
  },
  {
   "cell_type": "markdown",
   "id": "197e3071",
   "metadata": {},
   "source": [
    "## 221. Maximal Square"
   ]
  },
  {
   "cell_type": "markdown",
   "id": "6fd8a4cf",
   "metadata": {},
   "source": [
    "Problem: Given an m x n binary matrix filled with 0's and 1's, find the largest square containing only 1's and return its area.\n",
    "\n",
    "Denote `dp[i][j]` to be the maximum length of the square that the `i, j` block can attain. Of cource, `matrix[i][j]` has to be \"1\" at least, and then most importantly, the transition equation is:\n",
    "\n",
    "`dp[i][j] = min(dp[i-1][j], dp[i-1][j-1], dp[i][j-1]) + 1`\n",
    "\n",
    "The intuition here is that, to make a square, the current block depends on blocks to its left, top, and top left corner. Only the least of their values are attainable for the group of four blocks (similar to bucket effect)"
   ]
  },
  {
   "cell_type": "code",
   "execution_count": 24,
   "id": "4a12e9c8",
   "metadata": {},
   "outputs": [],
   "source": [
    "class Solution:\n",
    "    def maximalSquare(self, matrix: list[list[str]]) -> int:\n",
    "        m, n = len(matrix), len(matrix[0])\n",
    "        dp = [[0] * n for _ in range(m)]\n",
    "        maxSide = 0\n",
    "        for i in range(m):\n",
    "            for j in range(n):\n",
    "                if matrix[i][j] == \"1\":\n",
    "                    # if these blocks on the top, left boundary, keep the original values\n",
    "                    if i == 0 or j == 0:\n",
    "                        dp[i][j] = 1\n",
    "                    else:\n",
    "                        dp[i][j] = min(dp[i-1][j], dp[i-1][j-1], dp[i][j-1]) + 1\n",
    "                maxSide = max(maxSide, dp[i][j])\n",
    "        return maxSide**2"
   ]
  },
  {
   "cell_type": "markdown",
   "id": "ee8ef1d9",
   "metadata": {},
   "source": [
    "## 279. Perfect Squares"
   ]
  },
  {
   "cell_type": "markdown",
   "id": "7c415fb2",
   "metadata": {},
   "source": [
    "Use a dynamic programming approach, though it is not the optimal. We iterate the sequence from 1 to n, and for each number, our algo is going to find the minmimum number of perfect squares, since we have found the minum number of previous ones, we can utilize the results from the `dp`. There is a transition formula\n",
    "\n",
    "$f[i]=1+\\min _{j=1}^{\\lfloor\\sqrt{i}\\rfloor} f\\left[i-j^{2}\\right]$"
   ]
  },
  {
   "cell_type": "code",
   "execution_count": 1,
   "id": "885aa8bd",
   "metadata": {},
   "outputs": [],
   "source": [
    "class Solution:\n",
    "    def numSquares(self, n: int) -> int:\n",
    "        dp = [0] * (n + 1)\n",
    "        for i in range(1, n+1):\n",
    "            minn = 10**4\n",
    "            for j in range(1, int(i**0.5) + 1):\n",
    "                minn = min(minn, dp[i - j * j])\n",
    "            dp[i] = minn + 1\n",
    "        return dp[n]"
   ]
  },
  {
   "cell_type": "markdown",
   "id": "e6376c3a",
   "metadata": {},
   "source": [
    "## 309. Best Time to Buy and Sell Stock with Cooldown"
   ]
  },
  {
   "cell_type": "markdown",
   "id": "ee3ffcbc",
   "metadata": {},
   "source": [
    "Define three states of the `i`th day EOD status.\n",
    "\n",
    "0. Own a stock\n",
    "1. Do not own a stock and is in cool down\n",
    "2. Do not own a stock and is not in cool down\n",
    "\n",
    "**Possibilities of state 0**:\n",
    "\n",
    "You either buy a stock today `f[i-1][2] - prices[i]` (then you are do not own it yesterday and you are not in cool down, buy a stock will cost you `prices[i]`), or you keep a stock from yesterday `f[i-1][0]`.\n",
    "\n",
    "**Possibilities of state 1**:\n",
    "\n",
    "You sell the stock today, which means you had a stock yesterday. `f[i-1][0] + prices[i]`.\n",
    "\n",
    "**Possibilities of state 2**:\n",
    "\n",
    "You do not own the stock and you didn't sell it today. Then you either not in cool down yesterday, or you sold the stock yesterday and the cool down has passed. `max(f[i-1][1], f[i-1][2])`\n",
    "\n",
    "**Note**:\n",
    "\n",
    "On day 0, there is no cool down, so all the max profits for states 1/2 are 0, and for state 0 is `-prices[0]` if we hypothetically buy."
   ]
  },
  {
   "cell_type": "code",
   "execution_count": 8,
   "id": "33f25239",
   "metadata": {},
   "outputs": [],
   "source": [
    "class Solution:\n",
    "    def maxProfit(self, prices: list[int]) -> int:\n",
    "        n = len(prices)\n",
    "        dp = [[0] * 3 for _ in range(n)]\n",
    "        for i in range(n):\n",
    "            if i == 0:\n",
    "                dp[i][0] = -prices[0]\n",
    "                dp[i][1] = 0\n",
    "                dp[i][2] = 0\n",
    "            else:\n",
    "                dp[i][0] = max(dp[i - 1][0], dp[i - 1][2] - prices[i])\n",
    "                dp[i][1] = dp[i - 1][0] + prices[i]\n",
    "                dp[i][2] = max(dp[i - 1][1], dp[i - 1][2])\n",
    "        return max(dp[-1][0], dp[-1][1], dp[-1][2])"
   ]
  },
  {
   "cell_type": "markdown",
   "id": "0b418886",
   "metadata": {},
   "source": [
    "## 0-1 Knap Sack Problem"
   ]
  },
  {
   "cell_type": "markdown",
   "id": "35bbf6ba",
   "metadata": {},
   "source": [
    "**Problem** Given a set of items, each with a weight and a value, determine the number of each item to include in a collection so that the total weight is less than or equal to a given limit and the total value is as large as possible.\n",
    "\n",
    "**Solution** Define the matrix `dp`, with `dp[i][j]` indicating the maximum value can be attained using the first `i` items with the constraint weight of `j`.\n",
    "\n",
    "To facilitate the dynamic programming, note that we create a matrix with `n_rows = n_items + 1`, and `n_cols = total_wgt + 1`, since the first column and first row will always be zero. Zero items or zero weights should have no value at all, so we leave them as 0s.\n",
    "\n",
    "Then for the rest of the loop, we essentially just do two things:\n",
    "\n",
    "1. If the current item weight bigger than the constaint? If yes, then we omit this item, just fill in the current max value.\n",
    "2. If the current item weight smaller. Then, we either do nothing, or include this adding with the maximum value under the new constraints. The relationship is therefore:\n",
    "\n",
    "`dp[i][j] = max(dp[i-1][j], item_vals[i-1] + dp[i-1][j-item_wgts[i-1]])`"
   ]
  },
  {
   "cell_type": "code",
   "execution_count": null,
   "id": "1caa818c",
   "metadata": {},
   "outputs": [],
   "source": [
    "def knapsack01(item_wgts, item_vals, tot_wgt):\n",
    "    from pprint import pprint\n",
    "    n = len(item_wgts)\n",
    "    dp = [[0]*(tot_wgt + 1) for _ in range(n + 1)]\n",
    "    for i in range(1, n + 1):\n",
    "        for j in range(1, tot_wgt + 1):\n",
    "            if item_wgts[i - 1] > j:\n",
    "                dp[i][j] = dp[i-1][j]\n",
    "            else:\n",
    "                dp[i][j] = max(dp[i-1][j], item_vals[i-1] + dp[i-1][j-item_wgts[i-1]])\n",
    "                \n",
    "    pprint(dp)\n",
    "    return dp[-1][-1]\n",
    "\n",
    "# item_weights = [2, 3, 5, 1, 12]\n",
    "# item_values = [11, 9, 3, 7, 18]\n",
    "# total_weight = 10\n",
    "# knapsack01(item_weights, item_values, total_weight)"
   ]
  },
  {
   "cell_type": "markdown",
   "id": "a50dbdd9",
   "metadata": {},
   "source": [
    "## 416. Partition Equal Subset Sum"
   ]
  },
  {
   "cell_type": "markdown",
   "id": "de34238e",
   "metadata": {},
   "source": [
    "**Problem:** Given a non-empty array nums containing only positive integers, find if the array can be partitioned into two subsets such that the sum of elements in both subsets is equal.\n",
    "\n",
    "**Solution:** The only difference here is that instead of intializing 0s, `False` is entered. And we need a separate statement `nums[i-1] == j` to offer some true values so that the recursion is valid. (or all the values will be `False`)"
   ]
  },
  {
   "cell_type": "code",
   "execution_count": 40,
   "id": "841fd06c",
   "metadata": {},
   "outputs": [],
   "source": [
    "class Solution:\n",
    "    def canPartition(self, nums: list[int]) -> bool:\n",
    "        from pprint import pprint\n",
    "        s = sum(nums)\n",
    "        if s % 2 == 1:\n",
    "            return False\n",
    "        s = int(s / 2)\n",
    "        n = len(nums)\n",
    "        dp = [[False] * (s+1) for _ in range(n+1)]\n",
    "        for i in range(1, n+1):\n",
    "            for j in range(1, s+1):\n",
    "                if nums[i-1] == j:\n",
    "                    dp[i][j] = True\n",
    "                elif nums[i-1] > j:\n",
    "                    dp[i][j] = dp[i-1][j]\n",
    "                else:\n",
    "                    dp[i][j] = max(dp[i-1][j], dp[i-1][j-nums[i-1]])\n",
    "        return dp[-1][-1]"
   ]
  },
  {
   "cell_type": "markdown",
   "id": "b730ce25",
   "metadata": {},
   "source": [
    "## 494. Target Sum"
   ]
  },
  {
   "cell_type": "markdown",
   "id": "aa6fdfcb",
   "metadata": {},
   "source": [
    "**Problem:** You are given an integer array nums and an integer target.\n",
    "\n",
    "You want to build an expression out of nums by adding one of the symbols '+' and '-' before each integer in nums and then concatenate all the integers.\n",
    "\n",
    "For example, if nums = [2, 1], you can add a '+' before 2 and a '-' before 1 and concatenate them to build the expression \"+2-1\".\n",
    "Return the number of different expressions that you can build, which evaluates to target."
   ]
  },
  {
   "cell_type": "code",
   "execution_count": 44,
   "id": "ce271960",
   "metadata": {},
   "outputs": [],
   "source": [
    "class Solution:\n",
    "    def findTargetSumWays(self, nums: list[int], target: int) -> int:\n",
    "        pass"
   ]
  },
  {
   "cell_type": "markdown",
   "id": "22faf1a5",
   "metadata": {},
   "source": [
    "## 1049. Last Stone Weight II"
   ]
  },
  {
   "cell_type": "markdown",
   "id": "1a4aa88c",
   "metadata": {},
   "source": [
    "**Problem:** You are given an array of integers stones where stones[i] is the weight of the ith stone.\n",
    "\n",
    "We are playing a game with the stones. On each turn, we choose any two stones and smash them together. Suppose the stones have weights x and y with x <= y. The result of this smash is:\n",
    "\n",
    "If x == y, both stones are destroyed, and\n",
    "If x != y, the stone of weight x is destroyed, and the stone of weight y has new weight y - x.\n",
    "At the end of the game, there is at most one stone left.\n",
    "\n",
    "Return the smallest possible weight of the left stone. If there are no stones left, return 0\n",
    "\n",
    "**Solution:** This is again a variation of the 0-1 Knap Sack problem. Given a constraint and a collection of items, we want to find out the maximum value can be attained by combinations of the items.\n",
    "\n",
    "Here, we want to find a combination of items that are close to `(sum/2)`.\n"
   ]
  },
  {
   "cell_type": "code",
   "execution_count": 10,
   "id": "fdc09125",
   "metadata": {},
   "outputs": [],
   "source": [
    "class Solution:\n",
    "    def lastStoneWeightII(self, stones: list[int]) -> int:\n",
    "        s = sum(stones) // 2\n",
    "        n = len(stones)\n",
    "        dp = [[0] * (s+1) for _ in range(n+1)]\n",
    "        for i in range(1, n+1):\n",
    "            for j in range(1, s+1):\n",
    "                if stones[i-1] > j:\n",
    "                    dp[i][j] = dp[i-1][j]\n",
    "                else:\n",
    "                    dp[i][j] = max(dp[i-1][j], stones[i-1] + dp[i-1][j-stones[i-1]])\n",
    "        \n",
    "        return sum(stones) - 2*dp[-1][-1]"
   ]
  },
  {
   "cell_type": "markdown",
   "id": "ce517cca",
   "metadata": {},
   "source": [
    "## 322. Coin Change"
   ]
  },
  {
   "cell_type": "markdown",
   "id": "597bf68d",
   "metadata": {},
   "source": [
    "**Problem:** You are given an integer array coins representing coins of different denominations and an integer amount representing a total amount of money.\n",
    "\n",
    "Return the fewest number of coins that you need to make up that amount. If that amount of money cannot be made up by any combination of the coins, return -1.\n",
    "\n",
    "You may assume that you have an infinite number of each kind of coin.\n",
    "\n",
    "**Solution:** Define a sequence `dp`, with `dp[j]` indicating the minimum number of coins to attain value `j`.\n",
    "\n",
    "**Note:** When initializing the `dp` sequence, intilize as `amount + 1`, which is a \"large\" value that should be replaced by any possible coin combinations since the minimum face value is 1. Also, at the end of the return function, we can easily identify if this value is attainable by the coins or not, so we can wisely return -1."
   ]
  },
  {
   "cell_type": "code",
   "execution_count": 86,
   "id": "8ce0349b",
   "metadata": {},
   "outputs": [],
   "source": [
    "class Solution:\n",
    "    def coinChange(self, coins: list[int], amount: int) -> int:\n",
    "        # from pprint import pprint\n",
    "        dp = [amount + 1] * (amount + 1)\n",
    "        dp[0] = 0\n",
    "        for coin in coins:\n",
    "            for j in range(coin, amount + 1):\n",
    "                dp[j] = min(dp[j], dp[j - coin] + 1)\n",
    "                # pprint(dp)\n",
    "        return -1 if dp[-1] > amount else dp[-1]"
   ]
  },
  {
   "cell_type": "markdown",
   "id": "a86f7870",
   "metadata": {},
   "source": [
    "##  377. Combination Sum IV"
   ]
  },
  {
   "cell_type": "markdown",
   "id": "26635768",
   "metadata": {},
   "source": [
    "**Problem:** Given an array of distinct integers nums and a target integer target, return the number of possible combinations that add up to target.\n",
    "\n",
    "The test cases are generated so that the answer can fit in a 32-bit integer.\n",
    "\n",
    "**Solution:** \n",
    "\n",
    "- `dp` definition: Define `dp[i]` as number of combinations available to get target `i`.\n",
    "- Boundary condition: When `i=0`, then only one combination, an empty set can satisfy, the boundary condition `dp[0] = 0`.\n",
    "- Transition: for each number in `nums`, `dp[i] += dp[i - num]`"
   ]
  },
  {
   "cell_type": "code",
   "execution_count": 5,
   "id": "2c741f7a",
   "metadata": {},
   "outputs": [],
   "source": [
    "class Solution:\n",
    "    def combinationSum4(self, nums: list, target: int) -> int:\n",
    "        n = len(nums)\n",
    "        dp = [0] * (target + 1)\n",
    "        dp[0] = 1\n",
    "        for i in range(1, target + 1):\n",
    "            for num in nums:\n",
    "                if num <= i:\n",
    "                    dp[i] += dp[i - num]\n",
    "        return dp[-1] "
   ]
  },
  {
   "cell_type": "markdown",
   "id": "2e590e03",
   "metadata": {},
   "source": [
    "## 2218. Maximum Value of K Coins From Piles"
   ]
  },
  {
   "cell_type": "code",
   "execution_count": 7,
   "id": "2cb13a25",
   "metadata": {},
   "outputs": [],
   "source": [
    "class Solution:\n",
    "    def maxValueOfCoins(self, piles: list[list[int]], k: int) -> int:\n",
    "        pass"
   ]
  }
 ],
 "metadata": {
  "kernelspec": {
   "display_name": "Python 3 (ipykernel)",
   "language": "python",
   "name": "python3"
  },
  "language_info": {
   "codemirror_mode": {
    "name": "ipython",
    "version": 3
   },
   "file_extension": ".py",
   "mimetype": "text/x-python",
   "name": "python",
   "nbconvert_exporter": "python",
   "pygments_lexer": "ipython3",
   "version": "3.9.7"
  },
  "vscode": {
   "interpreter": {
    "hash": "39f5abcd422d605275ded4899c318d6924633141c4df25463611bc89b07d5dc8"
   }
  }
 },
 "nbformat": 4,
 "nbformat_minor": 5
}
