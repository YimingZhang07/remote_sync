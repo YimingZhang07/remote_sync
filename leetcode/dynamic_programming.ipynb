{
 "cells": [
  {
   "cell_type": "markdown",
   "id": "9a33b3d1-756c-419c-a970-f3c57eefb2ce",
   "metadata": {},
   "source": [
    "# Dynamic Programming"
   ]
  },
  {
   "cell_type": "markdown",
   "id": "e2e324e8-4780-4a55-ae6c-44bc32d0410d",
   "metadata": {},
   "source": [
    "## 64. Minimum Path Sum"
   ]
  },
  {
   "cell_type": "code",
   "execution_count": 5,
   "id": "8cb05bf3-7c72-4be7-ac20-d867656d3aef",
   "metadata": {},
   "outputs": [],
   "source": [
    "class Solution:\n",
    "    def minPathSum(self, grid: list[list[int]]) -> int:\n",
    "        n_row = len(grid)\n",
    "        n_col = len(grid[0])\n",
    "        \n",
    "        # build the matrix for dp\n",
    "        dpm = [[0] * n_col for _ in range(n_row)]\n",
    "        dpm[0][0] = grid[0][0]\n",
    "        \n",
    "        # fill in the first column\n",
    "        for i in range(1, n_row):\n",
    "            dpm[i][0] = dpm[i-1][0] + grid[i][0]\n",
    "        \n",
    "        for j in range(1, n_col):\n",
    "            dpm[0][j] = dpm[0][j-1] + grid[0][j]\n",
    "            \n",
    "        for j in range(1, n_col):\n",
    "            for i in range(1, n_row):\n",
    "                dpm[i][j] = min(dpm[i-1][j] + grid[i][j], dpm[i][j-1] + grid[i][j])\n",
    "        \n",
    "        return dpm[-1][-1]"
   ]
  }
 ],
 "metadata": {
  "kernelspec": {
   "display_name": "Python 3 (ipykernel)",
   "language": "python",
   "name": "python3"
  },
  "language_info": {
   "codemirror_mode": {
    "name": "ipython",
    "version": 3
   },
   "file_extension": ".py",
   "mimetype": "text/x-python",
   "name": "python",
   "nbconvert_exporter": "python",
   "pygments_lexer": "ipython3",
   "version": "3.9.7"
  }
 },
 "nbformat": 4,
 "nbformat_minor": 5
}
