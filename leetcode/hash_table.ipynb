{
 "cells": [
  {
   "cell_type": "markdown",
   "metadata": {},
   "source": [
    "# Array and Hashing"
   ]
  },
  {
   "cell_type": "markdown",
   "metadata": {},
   "source": [
    "## 128. Longest Consecutive Sequence"
   ]
  },
  {
   "cell_type": "markdown",
   "metadata": {},
   "source": [
    "Idea: use a while loop to find if the subsequent numbers can be found in the pool. To avoid entering into this loop every time, we use a `conditional` statement, so that only when the current number is a head to the consecutive sequence (i.e. `i - 1` is not in the sequence), then we enter into the `while` loop. "
   ]
  },
  {
   "cell_type": "code",
   "execution_count": 9,
   "metadata": {},
   "outputs": [],
   "source": [
    "class Solution:\n",
    "    def longestConsecutive(self, nums: list[int]) -> int:\n",
    "        if not nums:\n",
    "            return 0\n",
    "        pool = set(nums)\n",
    "        maxLen = 1\n",
    "        for i in pool:\n",
    "            if i - 1 in pool:\n",
    "                continue\n",
    "            else:\n",
    "                curNum = i\n",
    "                curLen = 1\n",
    "                while curNum + 1 in pool:\n",
    "                    curLen+= 1\n",
    "                    curNum += 1\n",
    "            if curLen > maxLen:\n",
    "                maxLen = curLen\n",
    "        return maxLen"
   ]
  },
  {
   "cell_type": "markdown",
   "metadata": {},
   "source": [
    "# Heap"
   ]
  },
  {
   "cell_type": "markdown",
   "metadata": {},
   "source": [
    "## 347. Top K Frequent Elements"
   ]
  },
  {
   "cell_type": "code",
   "execution_count": 9,
   "metadata": {},
   "outputs": [],
   "source": [
    "class Solution:\n",
    "    def topKFrequent(self, nums: list[int], k: int) -> list[int]:\n",
    "        import collections\n",
    "        import heapq\n",
    "        # create a number:frequency dictionary\n",
    "        counter = collections.Counter(nums)\n",
    "        # build a heap with tuples\n",
    "        h = []\n",
    "        for i in counter.keys():\n",
    "            heapq.heappush(h, (counter[i], i))\n",
    "\n",
    "        # return the n largest items (measured by the frequency, or tuple[0])\n",
    "        return [item[1] for item in heapq.nlargest(k, h)]\n"
   ]
  },
  {
   "cell_type": "code",
   "execution_count": 10,
   "metadata": {},
   "outputs": [
    {
     "data": {
      "text/plain": [
       "[1, 2]"
      ]
     },
     "execution_count": 10,
     "metadata": {},
     "output_type": "execute_result"
    }
   ],
   "source": [
    "Solution().topKFrequent(nums = [1,1,1,2,2,3], k = 2)"
   ]
  }
 ],
 "metadata": {
  "kernelspec": {
   "display_name": "Python 3 (ipykernel)",
   "language": "python",
   "name": "python3"
  },
  "language_info": {
   "codemirror_mode": {
    "name": "ipython",
    "version": 3
   },
   "file_extension": ".py",
   "mimetype": "text/x-python",
   "name": "python",
   "nbconvert_exporter": "python",
   "pygments_lexer": "ipython3",
   "version": "3.9.7"
  },
  "vscode": {
   "interpreter": {
    "hash": "39f5abcd422d605275ded4899c318d6924633141c4df25463611bc89b07d5dc8"
   }
  }
 },
 "nbformat": 4,
 "nbformat_minor": 4
}
