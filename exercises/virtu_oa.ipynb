{
 "cells": [
  {
   "cell_type": "markdown",
   "metadata": {},
   "source": [
    "## Hexspeak"
   ]
  },
  {
   "cell_type": "markdown",
   "metadata": {},
   "source": [
    "**Problem:** Turn a number to Hexadecimal, modify `1` to `I`  and `0` to `O`. If there exists other chars other than A-F and O, I then return false."
   ]
  },
  {
   "cell_type": "code",
   "execution_count": 3,
   "metadata": {},
   "outputs": [],
   "source": [
    "class Solution:\n",
    "    def toHexSpeak(self, num: str) -> str:\n",
    "        # the hexdecimal starts with \"OX\" remove\n",
    "        data, res = hex(int(num)).upper()[2:], \"\"\n",
    "        for i in range(len(data)):\n",
    "            if data[i] == \"1\":\n",
    "                res += \"I\"\n",
    "            elif data[i] == \"0\":\n",
    "                res += \"O\"\n",
    "            elif data[i] not in [\"A\", \"B\", \"C\", \"D\", \"E\", \"F\"]:\n",
    "                return \"ERROR\"\n",
    "            else:\n",
    "                res += data[i]\n",
    "        return res"
   ]
  },
  {
   "cell_type": "code",
   "execution_count": 4,
   "metadata": {},
   "outputs": [
    {
     "data": {
      "text/plain": [
       "'IOI'"
      ]
     },
     "execution_count": 4,
     "metadata": {},
     "output_type": "execute_result"
    }
   ],
   "source": [
    "Solution().toHexSpeak(\"257\")"
   ]
  },
  {
   "cell_type": "markdown",
   "metadata": {},
   "source": [
    "## Max number of apples"
   ]
  },
  {
   "cell_type": "markdown",
   "metadata": {},
   "source": [
    "**Problem:** Given a weight limit, and a sequence of apple weights. Calculate the maximum number of apples can be allowed to carry under this limit.\n",
    "\n",
    "**Note**: Sort the array and always choose the lighter apples first."
   ]
  },
  {
   "cell_type": "code",
   "execution_count": 7,
   "metadata": {},
   "outputs": [],
   "source": [
    "class Solution:\n",
    "    def maxNumberOfApples(self, target: int, arr: list) -> int:\n",
    "        arr.sort()\n",
    "        apples = units = 0\n",
    "        for _, weight in enumerate(arr):\n",
    "            units += weight\n",
    "            if units > target:\n",
    "                break\n",
    "            apples += 1\n",
    "        return apples"
   ]
  },
  {
   "cell_type": "code",
   "execution_count": 8,
   "metadata": {},
   "outputs": [
    {
     "data": {
      "text/plain": [
       "3"
      ]
     },
     "execution_count": 8,
     "metadata": {},
     "output_type": "execute_result"
    }
   ],
   "source": [
    "Solution().maxNumberOfApples(150, [100, 30, 30, 100, 50, 100])"
   ]
  },
  {
   "cell_type": "markdown",
   "metadata": {},
   "source": [
    "## Nearest Fibonacci"
   ]
  },
  {
   "cell_type": "markdown",
   "metadata": {},
   "source": [
    "**Problem:** For a number $x$ find its nearest fibonacci number and return the difference.\n",
    "\n",
    "**Note**: Continuously append the fibonacci sequence, until we have found the one larger than the given $x$, and we only need to consider the last two numbers (one smaller and one largest than $x$)."
   ]
  },
  {
   "cell_type": "code",
   "execution_count": 9,
   "metadata": {},
   "outputs": [],
   "source": [
    "class Solution:\n",
    "    def nearestFibonacci(self, x: int) -> int:\n",
    "        dp = [0,1]\n",
    "        while dp[-1] < x:\n",
    "            dp.append(dp[-1] + dp[-2])\n",
    "        return min(dp[-1] - x, x - dp[-2])"
   ]
  },
  {
   "cell_type": "markdown",
   "metadata": {},
   "source": [
    "## Count Homogenous"
   ]
  },
  {
   "cell_type": "markdown",
   "metadata": {},
   "source": [
    "**Problem:** A string is homogenous if all the characters of the string are the same. A substring is a contiguous sequence of characters within a string.\n",
    "\n",
    "**Note:** Since we are considering continuous substring, then whenever meet a new repeated char, the total number of homogenous substrings added is equal to the current length of the repeated sequence. (\"aa\" -> \"aaa\", the last \"a\" will add new substrings \"a\", \"aa\" and \"aaa\" to the count)"
   ]
  },
  {
   "cell_type": "code",
   "execution_count": 12,
   "metadata": {},
   "outputs": [],
   "source": [
    "class Solution:\n",
    "    def countHomogeneous(self, s: str) -> int:\n",
    "        n = len(s)\n",
    "        prefix = [1] * n\n",
    "        for i in range(1,n):\n",
    "            if s[i] == s[i-1]:\n",
    "                prefix[i] = prefix[i-1] + 1\n",
    "        return sum(prefix)"
   ]
  },
  {
   "cell_type": "code",
   "execution_count": 13,
   "metadata": {},
   "outputs": [
    {
     "data": {
      "text/plain": [
       "15"
      ]
     },
     "execution_count": 13,
     "metadata": {},
     "output_type": "execute_result"
    }
   ],
   "source": [
    "Solution().countHomogeneous(\"zzzzz\")"
   ]
  },
  {
   "cell_type": "markdown",
   "metadata": {},
   "source": [
    "## Student Scores"
   ]
  },
  {
   "cell_type": "markdown",
   "metadata": {},
   "source": [
    "**Problem:** Each day, the students update their grades if his grade is higher / lower than both of his neighbors. What the sequence should look like ultimately?\n",
    "\n",
    "**Note:** Solve the problem by a simple simulation, and return the grades sequence when it is not being updated anymore. The only thing need to notice is to use `copy` methods, because the new grades are dependent only on the previous grade sequence."
   ]
  },
  {
   "cell_type": "code",
   "execution_count": 1,
   "metadata": {},
   "outputs": [],
   "source": [
    "class Solution:\n",
    "    def studentScores(self, nums: list) -> list:\n",
    "        n = len(nums)\n",
    "        updates = nums.copy()\n",
    "        while True:\n",
    "            for i in range(1, n-1):\n",
    "                if nums[i] > nums[i-1] and nums[i] > nums[i+1]:\n",
    "                    updates[i] -= 1\n",
    "                if nums[i] < nums[i-1] and nums[i] < nums[i+1]:\n",
    "                    updates[i] += 1\n",
    "            if updates == nums:\n",
    "                return updates\n",
    "            else:\n",
    "                nums = updates.copy()"
   ]
  },
  {
   "cell_type": "code",
   "execution_count": 2,
   "metadata": {},
   "outputs": [
    {
     "data": {
      "text/plain": [
       "[1, 4, 4, 4, 4, 5]"
      ]
     },
     "execution_count": 2,
     "metadata": {},
     "output_type": "execute_result"
    }
   ],
   "source": [
    "Solution().studentScores([1,6,3,4,3,5])"
   ]
  }
 ],
 "metadata": {
  "kernelspec": {
   "display_name": "Python 3.9.7 ('base')",
   "language": "python",
   "name": "python3"
  },
  "language_info": {
   "codemirror_mode": {
    "name": "ipython",
    "version": 3
   },
   "file_extension": ".py",
   "mimetype": "text/x-python",
   "name": "python",
   "nbconvert_exporter": "python",
   "pygments_lexer": "ipython3",
   "version": "3.9.7"
  },
  "orig_nbformat": 4,
  "vscode": {
   "interpreter": {
    "hash": "39f5abcd422d605275ded4899c318d6924633141c4df25463611bc89b07d5dc8"
   }
  }
 },
 "nbformat": 4,
 "nbformat_minor": 2
}
