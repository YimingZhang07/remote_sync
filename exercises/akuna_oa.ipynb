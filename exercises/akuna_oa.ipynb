{
 "cells": [
  {
   "cell_type": "markdown",
   "metadata": {},
   "source": [
    "## Keyboard"
   ]
  },
  {
   "cell_type": "markdown",
   "metadata": {},
   "source": [
    "## K Smallest Substring"
   ]
  },
  {
   "cell_type": "markdown",
   "metadata": {},
   "source": [
    "**Problem:** A sequence of \"0\" and \"1\". Give a number $k$, return a contiguous substring that\n",
    "1. has $k$ \"1\"s \n",
    "2. shortest\n",
    "3. lexicographically smallest.\n",
    "\n",
    "**Note:**\n",
    "1. Use a `deque` to store the valid substring that contains $k$ \"1\"s\n",
    "2. Whenever we meet a new \"1\", pop from left the first \"1\" and following \"0\"s. Record this sequence if it is as least as short as the current ones.\n",
    "3. Sort so that the first substring can satisfy the 3 above."
   ]
  },
  {
   "cell_type": "code",
   "execution_count": 2,
   "metadata": {},
   "outputs": [],
   "source": [
    "def ksmallest(s: str, k: int) -> str:\n",
    "    from collections import deque\n",
    "    stack = deque()\n",
    "    n = len(s)\n",
    "    count = 0\n",
    "    valid = list()\n",
    "    min_len = n\n",
    "    for i in range(n):\n",
    "        if stack:\n",
    "            if s[i] == \"1\" and count < k:\n",
    "                stack.append(\"1\")\n",
    "                count += 1\n",
    "            elif s[i] == \"0\":\n",
    "                stack.append(\"0\")\n",
    "            elif s[i] == \"1\" and count == k:\n",
    "                stack.popleft()\n",
    "                while stack[0] != \"1\":\n",
    "                    stack.popleft()\n",
    "                stack.append(\"1\")\n",
    "                \n",
    "        if not stack and s[i] == \"1\":\n",
    "            stack.append(\"1\")\n",
    "            count += 1\n",
    "        \n",
    "        # whenever this is a valid substring that has k \"1\"s\n",
    "        if count == k:\n",
    "            candidate = list(stack)\n",
    "            if len(candidate) == min_len:\n",
    "                valid.append(\"\".join(candidate))\n",
    "            elif len(candidate) < min_len:\n",
    "                valid = [\"\".join(candidate)]\n",
    "                min_len = min(min_len, len(candidate))\n",
    "    \n",
    "    valid.sort()\n",
    "    return valid[0]"
   ]
  },
  {
   "cell_type": "code",
   "execution_count": 4,
   "metadata": {},
   "outputs": [
    {
     "data": {
      "text/plain": [
       "'1011'"
      ]
     },
     "execution_count": 4,
     "metadata": {},
     "output_type": "execute_result"
    }
   ],
   "source": [
    "ksmallest(\"0101101\", 3)"
   ]
  },
  {
   "cell_type": "markdown",
   "metadata": {},
   "source": [
    "## Statistical Indicator"
   ]
  },
  {
   "cell_type": "code",
   "execution_count": 5,
   "metadata": {},
   "outputs": [],
   "source": [
    "def statisticalIndicator(nums: list) -> int:\n",
    "    n = len(nums)\n",
    "    cur = -1\n",
    "    count = 0\n",
    "    signal_1 = 0\n",
    "    # signal one: when the num[i] equal to it's consecutive homogeneou sequence length\n",
    "    for i in range(n):\n",
    "        if nums[i] != cur:\n",
    "            if count == cur: signal_1 += 1\n",
    "            cur = nums[i]\n",
    "            count = 1\n",
    "        else:\n",
    "            count += 1\n",
    "            \n",
    "    # signal two: when num[i] == i+1 and followed by a num[i] number of same numbers\n",
    "    target = -1\n",
    "    cur = -1\n",
    "    signal_2 = 0\n",
    "    for i in range(n):\n",
    "        if nums[i] == i+1:\n",
    "            if target == 0:\n",
    "                signal_2 += 1\n",
    "                target = -1\n",
    "            cur, target = nums[i], nums[i]\n",
    "        if nums[i] == cur:\n",
    "            target -= 1\n",
    "        else:\n",
    "            if target == 0:\n",
    "                signal_2 += 1\n",
    "                target = -1\n",
    "    return signal_1 - signal_2"
   ]
  },
  {
   "cell_type": "code",
   "execution_count": 7,
   "metadata": {},
   "outputs": [
    {
     "data": {
      "text/plain": [
       "1"
      ]
     },
     "execution_count": 7,
     "metadata": {},
     "output_type": "execute_result"
    }
   ],
   "source": [
    "statisticalIndicator([3,3,2,2,5,5,5,5,5,3,3,2,2])"
   ]
  }
 ],
 "metadata": {
  "kernelspec": {
   "display_name": "Python 3.9.7 ('base')",
   "language": "python",
   "name": "python3"
  },
  "language_info": {
   "codemirror_mode": {
    "name": "ipython",
    "version": 3
   },
   "file_extension": ".py",
   "mimetype": "text/x-python",
   "name": "python",
   "nbconvert_exporter": "python",
   "pygments_lexer": "ipython3",
   "version": "3.9.7"
  },
  "orig_nbformat": 4,
  "vscode": {
   "interpreter": {
    "hash": "39f5abcd422d605275ded4899c318d6924633141c4df25463611bc89b07d5dc8"
   }
  }
 },
 "nbformat": 4,
 "nbformat_minor": 2
}
