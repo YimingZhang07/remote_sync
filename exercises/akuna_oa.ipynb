{
 "cells": [
  {
   "cell_type": "markdown",
   "metadata": {},
   "source": [
    "## K Smallest Substring"
   ]
  },
  {
   "cell_type": "markdown",
   "metadata": {},
   "source": [
    "**Problem:** A sequence of \"0\" and \"1\". Give a number $k$, return a contiguous substring that\n",
    "1. has $k$ \"1\"s \n",
    "2. shortest\n",
    "3. lexicographically smallest.\n",
    "\n",
    "**Note:**\n",
    "1. Use a `deque` to store the valid substring that contains $k$ \"1\"s\n",
    "2. Whenever we meet a new \"1\", pop from left the first \"1\" and following \"0\"s. Record this sequence if it is as least as short as the current ones.\n",
    "3. Sort so that the first substring can satisfy the 3 above."
   ]
  },
  {
   "cell_type": "code",
   "execution_count": 2,
   "metadata": {},
   "outputs": [],
   "source": [
    "def ksmallest(s: str, k: int) -> str:\n",
    "    from collections import deque\n",
    "    stack = deque()\n",
    "    n = len(s)\n",
    "    count = 0\n",
    "    valid = list()\n",
    "    min_len = n\n",
    "    for i in range(n):\n",
    "        if stack:\n",
    "            if s[i] == \"1\" and count < k:\n",
    "                stack.append(\"1\")\n",
    "                count += 1\n",
    "            elif s[i] == \"0\":\n",
    "                stack.append(\"0\")\n",
    "            elif s[i] == \"1\" and count == k:\n",
    "                stack.popleft()\n",
    "                while stack[0] != \"1\":\n",
    "                    stack.popleft()\n",
    "                stack.append(\"1\")\n",
    "                \n",
    "        if not stack and s[i] == \"1\":\n",
    "            stack.append(\"1\")\n",
    "            count += 1\n",
    "        \n",
    "        # whenever this is a valid substring that has k \"1\"s\n",
    "        if count == k:\n",
    "            candidate = list(stack)\n",
    "            if len(candidate) == min_len:\n",
    "                valid.append(\"\".join(candidate))\n",
    "            elif len(candidate) < min_len:\n",
    "                valid = [\"\".join(candidate)]\n",
    "                min_len = min(min_len, len(candidate))\n",
    "    \n",
    "    valid.sort()\n",
    "    return valid[0]"
   ]
  },
  {
   "cell_type": "code",
   "execution_count": 4,
   "metadata": {},
   "outputs": [
    {
     "data": {
      "text/plain": [
       "'1011'"
      ]
     },
     "execution_count": 4,
     "metadata": {},
     "output_type": "execute_result"
    }
   ],
   "source": [
    "ksmallest(\"0101101\", 3)"
   ]
  },
  {
   "cell_type": "markdown",
   "metadata": {},
   "source": [
    "## Statistical Indicator"
   ]
  },
  {
   "cell_type": "code",
   "execution_count": 5,
   "metadata": {},
   "outputs": [],
   "source": [
    "def statisticalIndicator(nums: list) -> int:\n",
    "    n = len(nums)\n",
    "    cur = -1\n",
    "    count = 0\n",
    "    signal_1 = 0\n",
    "    # signal one: when the num[i] equal to it's consecutive homogeneou sequence length\n",
    "    for i in range(n):\n",
    "        if nums[i] != cur:\n",
    "            if count == cur: signal_1 += 1\n",
    "            cur = nums[i]\n",
    "            count = 1\n",
    "        else:\n",
    "            count += 1\n",
    "            \n",
    "    # signal two: when num[i] == i+1 and followed by a num[i] number of same numbers\n",
    "    target = -1\n",
    "    cur = -1\n",
    "    signal_2 = 0\n",
    "    for i in range(n):\n",
    "        if nums[i] == i+1:\n",
    "            if target == 0:\n",
    "                signal_2 += 1\n",
    "                target = -1\n",
    "            cur, target = nums[i], nums[i]\n",
    "        if nums[i] == cur:\n",
    "            target -= 1\n",
    "        else:\n",
    "            if target == 0:\n",
    "                signal_2 += 1\n",
    "                target = -1\n",
    "    return signal_1 - signal_2"
   ]
  },
  {
   "cell_type": "code",
   "execution_count": 7,
   "metadata": {},
   "outputs": [
    {
     "data": {
      "text/plain": [
       "1"
      ]
     },
     "execution_count": 7,
     "metadata": {},
     "output_type": "execute_result"
    }
   ],
   "source": [
    "statisticalIndicator([3,3,2,2,5,5,5,5,5,3,3,2,2])"
   ]
  },
  {
   "cell_type": "markdown",
   "metadata": {},
   "source": [
    "## Keyboard"
   ]
  },
  {
   "cell_type": "code",
   "execution_count": 24,
   "metadata": {},
   "outputs": [],
   "source": [
    "def keyboard(s: str, keypad: str)-> int:\n",
    "    # keypad and their coordinates\n",
    "    keymap = dict()\n",
    "    for i in range(3):\n",
    "        for j in range(3):\n",
    "            keymap[keypad[i*3+j]] = [i, j]\n",
    "    \n",
    "    def distance(m:str, n:str) -> int:\n",
    "        \"\"\"\n",
    "        compute the distance between two keys\n",
    "        \"\"\"\n",
    "        u = keymap[m]\n",
    "        v = keymap[n]\n",
    "        d = ((u[0] - v[0]) ** 2 + (u[1] - v[1]) ** 2)**0.5\n",
    "        if d == 0:\n",
    "            return 0\n",
    "        elif d < 2:\n",
    "            return 1\n",
    "        else:\n",
    "            return 2\n",
    "    \n",
    "    n = len(s)\n",
    "    count = 0\n",
    "    # print(keymap)\n",
    "    for i in range(n-1):\n",
    "        # print(s[i], s[i+1], distance(s[i], s[i+1]))\n",
    "        count += distance(s[i], s[i+1])\n",
    "    \n",
    "    return count"
   ]
  },
  {
   "cell_type": "code",
   "execution_count": 25,
   "metadata": {},
   "outputs": [
    {
     "data": {
      "text/plain": [
       "11"
      ]
     },
     "execution_count": 25,
     "metadata": {},
     "output_type": "execute_result"
    }
   ],
   "source": [
    "keyboard(\"91566165\", \"639485712\")"
   ]
  },
  {
   "cell_type": "markdown",
   "metadata": {},
   "source": [
    "## Document Chunks"
   ]
  },
  {
   "cell_type": "code",
   "execution_count": 3,
   "metadata": {},
   "outputs": [],
   "source": [
    "def minChunks(totalPackets, uploadedChunks):\n",
    "    if len(uploadedChunks) == 0:\n",
    "        return 2\n",
    "    uploadedChunks.sort(key = lambda x: x[0])\n",
    "    remainingChunk = []\n",
    "    for i in range(1, len(uploadedChunks)):\n",
    "        remainingChunk.append(uploadedChunks[i][0] - 1 - uploadedChunks[i-1][1])\n",
    "    if uploadedChunks[0][0] != 1:\n",
    "        remainingChunk.append(uploadedChunks[0][0] - 1)\n",
    "    if uploadedChunks[-1][1] != totalPackets:\n",
    "        remainingChunk.append(totalPackets - uploadedChunks[-1][1])\n",
    "        \n",
    "    minChunks = 0\n",
    "    for i in remainingChunk:\n",
    "        minChunks += bin(i).count(\"1\")\n",
    "        \n",
    "    return minChunks"
   ]
  },
  {
   "cell_type": "code",
   "execution_count": 4,
   "metadata": {},
   "outputs": [
    {
     "data": {
      "text/plain": [
       "2"
      ]
     },
     "execution_count": 4,
     "metadata": {},
     "output_type": "execute_result"
    }
   ],
   "source": [
    "minChunks(10, [[0,2]])"
   ]
  },
  {
   "cell_type": "markdown",
   "metadata": {},
   "source": [
    "## Circular Array"
   ]
  },
  {
   "cell_type": "code",
   "execution_count": 1,
   "metadata": {},
   "outputs": [
    {
     "data": {
      "text/plain": [
       "9"
      ]
     },
     "execution_count": 1,
     "metadata": {},
     "output_type": "execute_result"
    }
   ],
   "source": [
    "def circularArray(n, endNote):\n",
    "    totalVisit = []\n",
    "    m = len(endNote)\n",
    "    for i in range(m-1):\n",
    "        if endNote[i] <= endNote[i+1]:\n",
    "            totalVisit.extend(range(endNote[i],endNote[i+1]+1))\n",
    "        else:\n",
    "            totalVisit.extend(range(endNote[i], endNote[m-1]+1))\n",
    "            totalVisit.extend(range(endNote[0], endNote[i+1]+1))\n",
    "        # print(totalVisit)\n",
    "    # freq = {x:totalVisit.count(x) for x in totalVisit}\n",
    "    # maxVal = freq[max(freq, key=freq.get)]\n",
    "    # val = [i for i in freq.keys() if freq[i]==maxVal]\n",
    "    # val.sort()\n",
    "    # return val[0]\n",
    "    # Use counter\n",
    "    from collections import Counter\n",
    "    freq = Counter(totalVisit)\n",
    "    maxVal = freq[max(freq, key=freq.get)]\n",
    "    val = [i for i in freq.keys() if freq[i]==maxVal]\n",
    "    val.sort()\n",
    "    return val[0]\n",
    "\n",
    "circularArray(10,[8,2,7,9,10])"
   ]
  },
  {
   "cell_type": "markdown",
   "metadata": {},
   "source": [
    "## Extraordinary Substrings"
   ]
  },
  {
   "cell_type": "code",
   "execution_count": 58,
   "metadata": {},
   "outputs": [],
   "source": [
    "def extraordinarySubstring(s:str) -> int:\n",
    "    # standard method to get contiguous subsets\n",
    "    vals = list(s)\n",
    "    n = len(vals)\n",
    "    res = list()\n",
    "    def backtrack(idx, comb):\n",
    "        res.append(\"\".join(comb))\n",
    "        if idx == n:\n",
    "            return\n",
    "        backtrack(idx + 1, comb + [vals[idx]])\n",
    "    \n",
    "    \n",
    "    for i in range(n):\n",
    "        backtrack(i + 1, [vals[i]])\n",
    "        \n",
    "    # map the strings with numbers\n",
    "    keymap = dict()\n",
    "    for i in range(97, 97 + 26):\n",
    "        keymap[chr(i)] = ((1 + i - 97) // 3 + 1)\n",
    "    \n",
    "    # count\n",
    "    count = 0\n",
    "    for seq in res:\n",
    "        _sum = 0\n",
    "        for char in seq:\n",
    "            _sum += keymap[char]\n",
    "        if _sum % len(seq) == 0:\n",
    "            count += 1\n",
    "    return count"
   ]
  },
  {
   "cell_type": "code",
   "execution_count": 59,
   "metadata": {},
   "outputs": [
    {
     "data": {
      "text/plain": [
       "6"
      ]
     },
     "execution_count": 59,
     "metadata": {},
     "output_type": "execute_result"
    }
   ],
   "source": [
    "extraordinarySubstring(\"asdf\")"
   ]
  },
  {
   "cell_type": "markdown",
   "metadata": {},
   "source": [
    "## Special Sequence"
   ]
  },
  {
   "cell_type": "code",
   "execution_count": 44,
   "metadata": {},
   "outputs": [],
   "source": [
    "def specialSequence(nums) -> list:\n",
    "    from functools import lru_cache\n",
    "    \n",
    "    @ lru_cache\n",
    "    def sum_digits(x: str):\n",
    "        _sum = 0\n",
    "        for char in x:\n",
    "            _sum += int(char)\n",
    "        return _sum\n",
    "    \n",
    "    def countAndSay(n: int) -> list:\n",
    "        res = list()\n",
    "        prev = \"1\"\n",
    "        res.append(prev)\n",
    "        for i in range(n-1):\n",
    "            curr = \"\"\n",
    "            pos = 0\n",
    "            start = 0\n",
    "\n",
    "            while pos < len(prev):\n",
    "                while pos < len(prev) and prev[pos] == prev[start]:\n",
    "                    pos += 1\n",
    "                curr += str(pos - start) + prev[start]\n",
    "                start = pos\n",
    "            prev = curr\n",
    "            res.append(prev)\n",
    "        return res\n",
    "    # starts here\n",
    "    max_len = max(nums)\n",
    "    _map = countAndSay(max_len)\n",
    "    n = len(nums)\n",
    "    ans = list()\n",
    "    for i in nums:\n",
    "        ans.append(sum_digits(_map[i-1]))\n",
    "        \n",
    "    return ans"
   ]
  },
  {
   "cell_type": "code",
   "execution_count": 47,
   "metadata": {},
   "outputs": [],
   "source": [
    "def firstMissingPositive(nums: list[int]) -> int:\n",
    "    n = len(nums)\n",
    "    for i in range(n):\n",
    "        if nums[i] <= 0:\n",
    "            nums[i] = n + 1\n",
    "    \n",
    "    for i in range(n):\n",
    "        num = abs(nums[i])\n",
    "        if num <= n:\n",
    "            nums[num - 1] = -abs(nums[num - 1])\n",
    "    \n",
    "    for i in range(n):\n",
    "        if nums[i] > 0:\n",
    "            return i + 1\n",
    "    \n",
    "    return n + 1"
   ]
  },
  {
   "cell_type": "code",
   "execution_count": 86,
   "metadata": {},
   "outputs": [],
   "source": [
    "def getMaximumMex(arr, x):\n",
    "    from collections import Counter\n",
    "    # exclude the identical case:\n",
    "    if arr.count(arr[0]) == len(arr): return 0 if arr[0] !=0 else 1\n",
    "    arr2 = [_%x for _ in arr]\n",
    "    counter = Counter(arr2)\n",
    "    counts = sorted(counter, key = counter.get)\n",
    "    smallestCountNum = counts[0]\n",
    "    return smallestCountNum + x*counter.get(smallestCountNum)"
   ]
  },
  {
   "cell_type": "code",
   "execution_count": 88,
   "metadata": {},
   "outputs": [
    {
     "data": {
      "text/plain": [
       "1"
      ]
     },
     "execution_count": 88,
     "metadata": {},
     "output_type": "execute_result"
    }
   ],
   "source": [
    "getMaximumMex([0,0,0],2)"
   ]
  }
 ],
 "metadata": {
  "kernelspec": {
   "display_name": "Python 3.9.7 ('base')",
   "language": "python",
   "name": "python3"
  },
  "language_info": {
   "codemirror_mode": {
    "name": "ipython",
    "version": 3
   },
   "file_extension": ".py",
   "mimetype": "text/x-python",
   "name": "python",
   "nbconvert_exporter": "python",
   "pygments_lexer": "ipython3",
   "version": "3.9.7"
  },
  "orig_nbformat": 4,
  "vscode": {
   "interpreter": {
    "hash": "39f5abcd422d605275ded4899c318d6924633141c4df25463611bc89b07d5dc8"
   }
  }
 },
 "nbformat": 4,
 "nbformat_minor": 2
}
